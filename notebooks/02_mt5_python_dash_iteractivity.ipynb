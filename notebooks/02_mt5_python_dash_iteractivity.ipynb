{
 "metadata": {
  "language_info": {
   "codemirror_mode": {
    "name": "ipython",
    "version": 3
   },
   "file_extension": ".py",
   "mimetype": "text/x-python",
   "name": "python",
   "nbconvert_exporter": "python",
   "pygments_lexer": "ipython3",
   "version": "3.9.2-final"
  },
  "orig_nbformat": 2,
  "kernelspec": {
   "name": "python3",
   "display_name": "Python 3.9.2 64-bit ('venv')",
   "metadata": {
    "interpreter": {
     "hash": "eb39e9c8c73b9549412177890b151ee15656eafc04bbe8cb34128633eef07fdd"
    }
   }
  }
 },
 "nbformat": 4,
 "nbformat_minor": 2,
 "cells": [
  {
   "source": [
    "# Create a Web App to Display Market Data from MT5 Using Python\n",
    "\n",
    "## Add Dash Support to Jupyter\n",
    "\n",
    "Dash is a library that allows the creation of web apps writing only python code.\n",
    "\n",
    "Dash uses `flask` under the hood, a well stablished minimalist python web server for the backend and `React` for the frontend. These are great choices that enable developers to create custom components once they got used to all the tools Dash offers.\n",
    "\n",
    "Here we are talking about MT5 and python but adding interactivity between them may spark some creativity in your mind and encorage you to dig deeper into it.\n",
    "\n",
    "\n",
    "The instructions for the setup of the different `ipython` enviroments can be found here: https://github.com/plotly/jupyter-dash\n",
    "\n",
    "The enviroment requirements may vary depending on which `ipython` interface you are using. I am using the __VSCode__ because it requires almost no setup. Others may require `nodejs` installation.\n",
    "\n",
    "This is the reference to the code editor _extension_ that makes your life easier: ![Jypter extension for VSCode](../images/setup/tutorial_setup_05_vscode_extension.png \"Jypter extension for VSCode\")\n",
    "\n",
    "The way we will setup Dash here will allow you to open the app on your browser as well."
   ],
   "cell_type": "markdown",
   "metadata": {}
  },
  {
   "cell_type": "code",
   "execution_count": null,
   "metadata": {},
   "outputs": [],
   "source": [
    "import os\n",
    "import pprint\n",
    "import pytz\n",
    "\n",
    "import MetaTrader5 as mt5\n",
    "import dash\n",
    "import dash_core_components as dcc\n",
    "import dash_html_components as html\n",
    "import numpy as np\n",
    "import pandas as pd\n",
    "import plotly.graph_objects as go\n",
    "import requests\n",
    "\n",
    "from dash import no_update\n",
    "from dash.dependencies import Input, Output, State\n",
    "from datetime import datetime as dt\n",
    "from datetime import timedelta\n",
    "from dotenv import dotenv_values\n",
    "from pandas.tseries import offsets\n",
    "from plotly.subplots import make_subplots\n",
    "\n",
    "from jupyter_dash import JupyterDash\n",
    "\n",
    "# Globals\n",
    "pp = pprint.PrettyPrinter(indent=4)\n",
    "config = {\n",
    "    **dotenv_values(\".env\")\n",
    "}\n"
   ]
  },
  {
   "source": [
    "## What we will build?\n",
    "\n",
    "In this tutorial, we will learn how we can create interactivity between python and MT5.\n",
    "\n",
    "We will create a \"Tick Watcher\", which is an indicator graph to display changes in ticker's data.\n",
    "\n",
    "For this very basic example, we will:\n",
    "\n",
    "Create a page with a dropdown menu containing the tickers descriptions. This will receive user's input.\n",
    "\n",
    "The dropdown menu is populated using the `symbols_get` function we saw in the previous notebook.\n",
    "\n",
    "Most of the interation is carried by an `Interval` Dash component that changes the `n_intervals` property in fixed time intervals.\n",
    "\n",
    "We will write a Dash `callback` to listen to these property changes and pull the fresh data from the terminal.\n",
    "\n",
    "Then we will display the data in the Indicar graph.\n",
    "\n",
    "## Connecting to MT5 Terminal\n",
    "Just like in the first part of the tutorial."
   ],
   "cell_type": "markdown",
   "metadata": {}
  },
  {
   "cell_type": "code",
   "execution_count": null,
   "metadata": {},
   "outputs": [],
   "source": [
    "connected = mt5.initialize(\n",
    "    path=config['MT5_PATH'],\n",
    "    login=int(config['LOGIN']),\n",
    "    password=config['PASSWORD'],\n",
    "    server=config['SERVER'],\n",
    "    portable=config['PORTABLE'] == 'True'\n",
    ")\n",
    "if not connected:\n",
    "    print(\"initialize() failed, error code =\", mt5.last_error())\n",
    "    raise Exception('Could not connect')"
   ]
  },
  {
   "source": [
    "## List the Symbols\n",
    "\n",
    "To build our first app, we will need the list of symbols we want to watch.\n",
    "\n",
    "From the previous notebook, we have the `symbols_get` to help us. I am calling this function and creating a list of dictionaries to store the data.\n",
    "\n",
    "__Python dictionaries__ are very simple data structures that organize the data into key-values pairs.\n",
    "\n",
    "Just like in a word dictionary, the word you lookup to is unique (the key) and it points to a definition (the value). If you look at the output of the next code block you will easily understand the concept."
   ],
   "cell_type": "markdown",
   "metadata": {}
  },
  {
   "cell_type": "code",
   "execution_count": null,
   "metadata": {},
   "outputs": [],
   "source": [
    "grouped_symbols = mt5.symbols_get(group=\"*USD*\")\n",
    "symbols_data = []\n",
    "for s in grouped_symbols:\n",
    "    symbols_data.append(dict(value=s.name, label=s.description))\n",
    "pp.pprint(symbols_data)"
   ]
  },
  {
   "source": [
    "We will use this data to create a `select` element for our app later on.\n",
    "\n",
    "Pay special attention to `dict` keys: `value` and `label`. These are the keys the component expects to find in the list of options.\n",
    "\n",
    "In the next code block, I just wrapped this piece of code in a function to call it when needed."
   ],
   "cell_type": "markdown",
   "metadata": {}
  },
  {
   "cell_type": "code",
   "execution_count": null,
   "metadata": {
    "tags": []
   },
   "outputs": [],
   "source": [
    "def retrieve_tickers_for_dropdown():\n",
    "    symbols_data = []\n",
    "    grouped_symbols = mt5.symbols_get(group=\"*USD*\")\n",
    "    for s in grouped_symbols:\n",
    "        symbols_data.append(dict(value=s.name, label=s.description))\n",
    "    return symbols_data"
   ]
  },
  {
   "source": [
    "## Retrieve Tick Changes\n",
    "\n",
    "Here we are using `copy_ticks_from` to get the last 2 ticks since the last second.\n",
    "\n",
    "We will use this piece of code to create an Indicator using Plotly."
   ],
   "cell_type": "markdown",
   "metadata": {}
  },
  {
   "cell_type": "code",
   "execution_count": null,
   "metadata": {},
   "outputs": [],
   "source": [
    "tick_data = mt5.copy_ticks_from(\n",
    "    'EURUSD',\n",
    "    dt.now() - timedelta(seconds=1),\n",
    "    2,\n",
    "    mt5.COPY_TICKS_INFO\n",
    ")\n",
    "tick_data"
   ]
  },
  {
   "source": [
    "Again, we embed this piece of code in a function to create the Indicator, passing the `symbol` name as the parameter.\n",
    "\n",
    "The tick data passes the values to the indicator.\n",
    "\n",
    "The second argument is optional, known in python as \"keyword argument\". They work like python dictionaries and are used to pass any arbitrary set of parameters to a function. In this case, I will use this to demonstrate how the values change over the time as the `Interval` component triggers the callback."
   ],
   "cell_type": "markdown",
   "metadata": {}
  },
  {
   "cell_type": "code",
   "execution_count": null,
   "metadata": {},
   "outputs": [],
   "source": [
    "def update_indicator(symbol, **kwargs):\n",
    "    tick_data = mt5.copy_ticks_from(\n",
    "        symbol,\n",
    "        dt.now() - timedelta(seconds=1),\n",
    "        2,\n",
    "        mt5.COPY_TICKS_INFO\n",
    "    )\n",
    "    if len(tick_data) == 0:  # if the market is closed, there will be no data to display.\n",
    "        tick_data = [(0,0)]  # then we give the function something to plot and prevent errors.\n",
    "\n",
    "    previous = tick_data[0]\n",
    "    latest = tick_data[-1]\n",
    "    fig = go.Figure(\n",
    "        go.Indicator(\n",
    "            title = f'Current ask price: ${round(latest[2], 5)}', # you may want to apply some format to this number.\n",
    "            mode = \"number+delta\",\n",
    "            value = latest[1], # bid price is the first item after the time, so index 1.\n",
    "            number = {\n",
    "                'prefix': \"$\",\n",
    "                'valueformat': '.5f',\n",
    "            },\n",
    "            delta = {\n",
    "                'position': \"top\",\n",
    "                'reference': previous[1],\n",
    "                'relative': True,\n",
    "                'valueformat':'.3%'\n",
    "            },\n",
    "            domain = {'x': [0, 1], 'y': [0, 1]}\n",
    "        )\n",
    "    )\n",
    "    fig.update_layout(\n",
    "        title=f'Bid Price change: {symbol} {kwargs.get(\"interval\", \"\")}',\n",
    "        title_font_size=32\n",
    "    )\n",
    "    return fig\n",
    "\n"
   ]
  },
  {
   "source": [
    "If we call this funcion multiple times, we will be able to see the values changes flowing from the terminal to our app. Try it!"
   ],
   "cell_type": "markdown",
   "metadata": {}
  },
  {
   "cell_type": "code",
   "execution_count": null,
   "metadata": {},
   "outputs": [],
   "source": [
    "update_indicator('EURUSD')"
   ]
  },
  {
   "source": [
    "But running a notebook cell multiple times is not fun. So, let's ask our app to pull the data for us automatically in a defined interval.\n",
    "\n",
    "## Put it all together\n",
    "\n",
    "The next code block is the application's entry point.\n",
    "\n",
    "Bear in mind that this is the \"backend\" part.\n",
    "\n",
    "Under the hood, Dash is creating a `flask` application server and storing it in the `app` variable.\n",
    "\n",
    "I added the `bootstrap` stylesheet (css) file here just to give a better look to the app, fixing the typography and elements positions.\n",
    "\n",
    "The `className` you see in the html elements refer to the `bootstrap` css classes."
   ],
   "cell_type": "markdown",
   "metadata": {}
  },
  {
   "cell_type": "code",
   "execution_count": null,
   "metadata": {},
   "outputs": [],
   "source": [
    "external_stylesheets = [\"https://cdn.jsdelivr.net/npm/bootstrap@5.0.0-beta3/dist/css/bootstrap.min.css\"]\n",
    "\n",
    "app = JupyterDash(\n",
    "    __name__, # The __name__ value helps Dash to internally configure paths and other things.\n",
    "    external_stylesheets=external_stylesheets # To apply good looking defauls styles to our html elements using bootstrap. \n",
    ")"
   ]
  },
  {
   "source": [
    "Next, we define just one `app.callback`.\n",
    "\n",
    "All the parameters are in the format: component id -> component property. In simple terms, a Dash callback is a function that \"listens\" to property changes in the components indicated by the id.\n",
    "\n",
    "The exemple below:\n",
    "- This function is triggered when the property `n_intervals` of the component identified by `clock-ticker` changes.\n",
    "- The `State` is the value of the property held by the component identified by the id `select-symbol` when the callback is triggered.\n",
    "- The `Output` is the pair id -> property where the result of the callback will be displayed in the user's interface."
   ],
   "cell_type": "markdown",
   "metadata": {}
  },
  {
   "cell_type": "code",
   "execution_count": null,
   "metadata": {},
   "outputs": [],
   "source": [
    "@app.callback(\n",
    "    Output('indicator', 'figure'),\n",
    "    Input('clock-ticker', 'n_intervals'),\n",
    "    State('select-symbol', 'value')\n",
    ")\n",
    "def display_indicator(interval, symbol):\n",
    "    return update_indicator(symbol, interval=interval)"
   ]
  },
  {
   "source": [
    "The last part is the \"frontend\".\n",
    "\n",
    "The `layout` is the property of the `app` object that describes how the user interface should look like.\n",
    "\n",
    "Here, python classes represent html elements tags and are nested and styled to create the user interface.\n",
    "\n",
    "Please, have a look into the [reference documentation.](https://dash.plotly.com/dash-html-components)"
   ],
   "cell_type": "markdown",
   "metadata": {}
  },
  {
   "cell_type": "code",
   "execution_count": null,
   "metadata": {},
   "outputs": [],
   "source": [
    "app.layout = html.Div(\n",
    "    className='container',\n",
    "    children= [\n",
    "        html.H1('Your First Tick Watcher'),\n",
    "        html.H2('MT5 and Python Integration'),\n",
    "        dcc.Interval(\n",
    "            id='clock-ticker',\n",
    "            interval=1*1000, # in milliseconds\n",
    "            n_intervals=0\n",
    "        ),\n",
    "        dcc.Dropdown(\n",
    "            className='w-50 p-3',\n",
    "            id='select-symbol',\n",
    "            options=retrieve_tickers_for_dropdown(), # this calls a function that retrieves a list of dicts contaning labels and values\n",
    "            value='EURUSD' # the initial selected value\n",
    "        ),\n",
    "        dcc.Graph(id='indicator'),\n",
    "    ]\n",
    ")\n",
    "\n",
    "app.run_server(port=8050, mode=\"inline\")"
   ]
  },
  {
   "source": [
    "You can open the browser and see the app running there: http://localhost:8050.\n",
    "\n",
    "# Conclusion\n",
    "\n",
    "This is just an idea of interation between python and MT5 that use these tools to display fresh market data to end users.\n",
    "\n",
    "But you can also check the changes in the tick data to make and automate decisions.\n",
    "\n",
    "The practical applications are endless."
   ],
   "cell_type": "markdown",
   "metadata": {}
  }
 ]
}