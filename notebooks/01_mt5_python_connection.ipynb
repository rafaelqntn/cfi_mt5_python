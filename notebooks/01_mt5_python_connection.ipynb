{
 "metadata": {
  "language_info": {
   "codemirror_mode": {
    "name": "ipython",
    "version": 3
   },
   "file_extension": ".py",
   "mimetype": "text/x-python",
   "name": "python",
   "nbconvert_exporter": "python",
   "pygments_lexer": "ipython3",
   "version": "3.9.1-final"
  },
  "orig_nbformat": 2,
  "kernelspec": {
   "name": "python3",
   "display_name": "Python 3.9.1 64-bit ('venv')",
   "metadata": {
    "interpreter": {
     "hash": "eb39e9c8c73b9549412177890b151ee15656eafc04bbe8cb34128633eef07fdd"
    }
   }
  }
 },
 "nbformat": 4,
 "nbformat_minor": 2,
 "cells": [
  {
   "source": [
    "# MT5 Python Connection\n",
    "\n",
    "Reference [documentation](https://www.mql5.com/en/docs/integration/python_metatrader5).\n",
    "\n",
    "For safety, I will use an `.env` file to store credentials and configurations.\n",
    "\n",
    "You can edit this file with your own data."
   ],
   "cell_type": "markdown",
   "metadata": {}
  },
  {
   "source": [
    "## Import the Required Modules and Setup of Global Variables\n",
    "\n",
    "The code below imports the required python modules.\n",
    "\n",
    "Bear in mind that you should have run the installation: `pip install -r requirements.txt` in the same __active__ environment used by the `ipython` kernel."
   ],
   "cell_type": "markdown",
   "metadata": {}
  },
  {
   "cell_type": "code",
   "execution_count": null,
   "metadata": {},
   "outputs": [],
   "source": [
    "from datetime import datetime as dt\n",
    "import os\n",
    "import pprint\n",
    "import pytz\n",
    "\n",
    "import MetaTrader5 as mt5\n",
    "import numpy as np\n",
    "import pandas as pd\n",
    "import plotly.graph_objects as go\n",
    "import requests\n",
    "\n",
    "from dotenv import dotenv_values\n",
    "from pandas.tseries import offsets\n",
    "from plotly.subplots import make_subplots\n",
    "\n",
    "# Globals\n",
    "pp = pprint.PrettyPrinter(indent=4)\n",
    "config = {\n",
    "    **dotenv_values(\".env\")\n",
    "}"
   ]
  },
  {
   "source": [
    "## Create the Connection With the Terminal\n",
    "\n",
    "The code block below connects python to the MT5 terminal.\n",
    "\n",
    "It is important to mention that you need to close and reopen the terminal if you restart this script. The `initialize` function does not reconnect to a previously opened terminal.\n",
    "\n",
    "I used `PrettyPrinter` here to make the console output look tidy and nicely formatted."
   ],
   "cell_type": "markdown",
   "metadata": {}
  },
  {
   "cell_type": "code",
   "execution_count": null,
   "metadata": {},
   "outputs": [],
   "source": [
    "connected = mt5.initialize(\n",
    "    path=config['MT5_PATH'],               # path to the MetaTrader 5 terminal EXE file\n",
    "    login=int(config['LOGIN']),            # account number as integer, not text string\n",
    "    password=config['PASSWORD'],           # password\n",
    "    server=config['SERVER'],               # server name as it is specified in the terminal\n",
    "    timeout=int(config['TIMEOUT']),        # the time to wait for responses before failing\n",
    "    portable=config['PORTABLE'] == 'True'  # portable mode, must be True or False in the .env file.\n",
    ")\n",
    "if not connected:\n",
    "    print(\"initialize() failed, error code =\", mt5.last_error())\n",
    "    raise Exception('Could not connect')"
   ]
  },
  {
   "source": [
    "The __PORTABLE__ parameter sets the platform to run in the Portable mode, which means that the platform will try to read configurations from the installation folder instead of the special user's home directory.\n",
    "\n",
    "In other words, if you have a default Metatrader installation, setting this flag to __True will not work__ because there will be no configurations on the installation folder.\n",
    "\n",
    "If you start this using the False value, the terminal will start with all your configurations in place."
   ],
   "cell_type": "markdown",
   "metadata": {}
  },
  {
   "cell_type": "code",
   "execution_count": null,
   "metadata": {},
   "outputs": [],
   "source": [
    "print(\"Terminal Info\")\n",
    "pp.pprint(mt5.terminal_info()._asdict())\n",
    "print(\"Account Info\")\n",
    "pp.pprint(mt5.account_info()._asdict())"
   ]
  },
  {
   "source": [
    "We are connected to the platform and are able to extract data from there.\n",
    "\n",
    "## Understand what is happening\n",
    "\n",
    "You are connected to the __Metatrader__ installed on your machine (called here as _terminal_) and all the commands you send to it are then, sent to the remote server that has the access to the market data.\n",
    "\n",
    "So, we are not connecting python to the broker's server directly.\n",
    "\n",
    "In other words the __MetaTrader5__ module allows you to operate the _terminal_ using python code.\n",
    "\n",
    "To demonstrate that, let's add a ticker to the __Market Watch__ window programmatically:"
   ],
   "cell_type": "markdown",
   "metadata": {}
  },
  {
   "cell_type": "code",
   "execution_count": null,
   "metadata": {},
   "outputs": [],
   "source": [
    "mt5.symbol_select('EURUSD', False) # Change this from True to False and check the terminal."
   ]
  },
  {
   "source": [
    "The code block above adds (or remove) the ticker from the __Market Watch__ window. Look for your ticker. If you added a new one, scroll to the bottom of the list.\n",
    "\n",
    "This operation can be performed using the terminal, pressing the plus sign indicated below:\n",
    "\n",
    "![Metatrader, market watch window](../images/metatrader/MT5_MARKET_WATCH_WINDOW.png \"Metatrader, market watch window\")"
   ],
   "cell_type": "markdown",
   "metadata": {}
  },
  {
   "source": [
    "## Explore the API\n",
    "\n",
    "### Getting the number of Financial Instruments available"
   ],
   "cell_type": "markdown",
   "metadata": {}
  },
  {
   "cell_type": "code",
   "execution_count": null,
   "metadata": {},
   "outputs": [],
   "source": [
    "n_symbols = mt5.symbols_total()\n",
    "n_symbols"
   ]
  },
  {
   "source": [
    "See how it matches the count in the market watch window:\n",
    "\n",
    "![Metatrader, market watch window](../images/metatrader/MT5_MARKET_WATCH_WINDOW_SYMBOLS_COUNT.png \"Metatrader, market watch window\")"
   ],
   "cell_type": "markdown",
   "metadata": {}
  },
  {
   "source": [
    "### Listing all Symbols Data at Once\n",
    "\n",
    "It returns a tuple and its elements can be accessed by the tuple index like this:"
   ],
   "cell_type": "markdown",
   "metadata": {}
  },
  {
   "source": [
    "symbols = mt5.symbols_get()\n",
    "pp.pprint(symbols[2]._asdict())"
   ],
   "cell_type": "code",
   "metadata": {},
   "execution_count": null,
   "outputs": []
  },
  {
   "source": [
    "### Listing Symbols by Group\n",
    "\n",
    "The `group` parameter works like a simplified \"regular expression\" to filter the symbols name according to its names. Examples:\n",
    "\n",
    "\\*USD\\* matches all symbols containing USD in the name.\n",
    "\n",
    "!\\*USD\\* matches all symbols that do __not__ contain USD in the name."
   ],
   "cell_type": "markdown",
   "metadata": {}
  },
  {
   "source": [
    "grouped_symbols = mt5.symbols_get(group=\"*USD*, *EUR*\")\n",
    "pp.pprint(grouped_symbols[0]._asdict())"
   ],
   "cell_type": "code",
   "metadata": {},
   "execution_count": null,
   "outputs": []
  },
  {
   "source": [
    "### Get Data From a Single Symbol"
   ],
   "cell_type": "markdown",
   "metadata": {}
  },
  {
   "cell_type": "code",
   "execution_count": null,
   "metadata": {},
   "outputs": [],
   "source": [
    "symbol_info=mt5.symbol_info(\"EURJPY\")\n",
    "pp.pprint(symbol_info._asdict())"
   ]
  },
  {
   "source": [
    "### Getting Ticker Rates Data\n",
    "\n",
    "To get ticker data, you have 5 functions.\n",
    "\n",
    "Using these two, you can specify one of the 21 timeframes (the aggregation level) available in MetaTrader 5.\n",
    "\n",
    "The timeframes are enums (fixed values) and the names follow the rule below:\n",
    "```\n",
    "TIMEFRAME_ + M for minutes + 1, 2, 3, 4, 5, 6, 10, 12, 15, 20, 30\n",
    "           + H for hours + 1, 2, 3, 4, 6, 8, 12\n",
    "           + D for day + 1\n",
    "           + W for week + 1\n",
    "           + MN for month + 1\n",
    "```\n",
    "\n",
    "Example: TIMEFRAME_M30 you give you the ticker data summarized in 30 minutes interval.\n",
    "\n",
    "__copy_rates_from__: Get bars from the MetaTrader 5 terminal starting from the specified date.\n",
    "\n",
    "__copy_rates_from_pos__: Get bars from the MetaTrader 5 terminal starting from the specified index.\n",
    "\n",
    "__copy_rates_range__: Get bars in the specified date range from the MetaTrader 5 terminal.\n",
    "\n",
    "__copy_ticks_from__: Get ticks from the MetaTrader 5 terminal starting from the specified date and a number of ticks.\n",
    "\n",
    "__copy_ticks_range__: Get ticks for the specified date range from the MetaTrader 5 terminal.\n",
    "\n",
    "We will use the `copy_ticks_from` function in the next notebook. If you are curious, go there and check it out."
   ],
   "cell_type": "markdown",
   "metadata": {}
  },
  {
   "source": [
    "### Get Ticker Data From a Timespan\n",
    "The code below retrieves `USDJPY` (US dollars vs Japanese Yens) data between 2019-11-01 and 2021-03-31 and creates a pandas `DataFrame` to manipulate the data."
   ],
   "cell_type": "markdown",
   "metadata": {}
  },
  {
   "cell_type": "code",
   "execution_count": null,
   "metadata": {},
   "outputs": [],
   "source": [
    "timezone = pytz.timezone(\"UTC\")\n",
    "date_from = dt(2019,11,1, tzinfo=timezone)\n",
    "date_to = dt(2021,3,31, tzinfo=timezone)\n",
    "timeframe = mt5.TIMEFRAME_MN1\n",
    "symbol = 'USDJPY'\n",
    "\n",
    "rates = mt5.copy_rates_range(\n",
    "    symbol,\n",
    "    timeframe,\n",
    "    date_from,\n",
    "    date_to\n",
    ")\n",
    "\n",
    "pp.pprint(rates)"
   ]
  },
  {
   "source": [
    "df_rates = pd.DataFrame(rates)\n",
    "df_rates['time'] = pd.to_datetime(df_rates['time'], unit='s')\n",
    "\n",
    "df_rates"
   ],
   "cell_type": "code",
   "metadata": {},
   "execution_count": null,
   "outputs": []
  },
  {
   "source": [
    "## Plot Data Using Plotly\n",
    "\n",
    "The first plot is the traditional candlestick. As we get the data from the terminal, this is a good chance to see how the data matches.\n",
    "\n",
    "As the parameters required to plot a candlestick chart match the format of the data we extract from the MT5 terminal, ploting this chart is straightforward. Almost no manipulation is required."
   ],
   "cell_type": "markdown",
   "metadata": {}
  },
  {
   "cell_type": "code",
   "execution_count": null,
   "metadata": {},
   "outputs": [],
   "source": [
    "def plot_candlestick():\n",
    "    fig = go.Figure(\n",
    "        data=go.Candlestick(\n",
    "            x=df_rates['time'],\n",
    "            open=df_rates['open'],\n",
    "            high=df_rates['high'],\n",
    "            low=df_rates['low'],\n",
    "            close=df_rates['close']\n",
    "        )\n",
    "    )\n",
    "    fig.update_layout(\n",
    "        title_text='Candlestick: USD vs YEN',\n",
    "        title_font_size=24,\n",
    "        plot_bgcolor='white',\n",
    "    )\n",
    "    fig.update_xaxes(\n",
    "        showgrid=False,\n",
    "        tickfont_color='gray'\n",
    "    )\n",
    "    fig.update_yaxes(\n",
    "        gridcolor='lightgray',\n",
    "        tickcolor='lightgray',\n",
    "        ticks=\"outside\",\n",
    "        tickfont_color='gray'\n",
    "    )\n",
    "    return fig\n",
    "\n",
    "plot_candlestick()"
   ]
  },
  {
   "source": [
    "By default, Plotly give us a \"range slider\" below the x axis. You can play with it to \"zoom in\" a specific period.\n",
    "\n",
    "For comparison, this is the plot from the terminal, from the same period using timeframe MN1.\n",
    "![Plot from MT5 terminal](../images/charts/MT5_USDJPY_MN1.png \"Plot from MT5 terminal.\")"
   ],
   "cell_type": "markdown",
   "metadata": {}
  },
  {
   "source": [
    "Next, let's see how to add many series to a single plot using Plotly."
   ],
   "cell_type": "markdown",
   "metadata": {}
  },
  {
   "cell_type": "code",
   "execution_count": null,
   "metadata": {},
   "outputs": [],
   "source": [
    "x = df_rates['time']\n",
    "\n",
    "series = ['open', 'close', 'high', 'low']\n",
    "\n",
    "fig = make_subplots(\n",
    "    specs=[\n",
    "        [\n",
    "            {\"secondary_y\": True} #  This tells Plotly that we will create a plot with two y axes. We will add traces to it later on.\n",
    "        ]\n",
    "    ]\n",
    ")\n",
    "\n",
    "for serie in series:\n",
    "    fig.add_trace(\n",
    "        go.Scatter(\n",
    "            x=x,\n",
    "            y=df_rates[serie],\n",
    "            name=serie.capitalize(),\n",
    "            visible=True if serie == 'low' else 'legendonly',\n",
    "            mode='lines'\n",
    "        ),\n",
    "    )\n",
    "\n",
    "fig.update_layout(\n",
    "    title=\"USD vs YEN\",\n",
    "    title_font_size=32,\n",
    "    title_font_color='rgb(255, 255, 219)',\n",
    "\n",
    "    legend_title='Series',\n",
    "    legend_title_font_size=20,\n",
    "    legend_title_font_color='rgb(169, 169, 169)',\n",
    "    legend_font_size=16,\n",
    "    legend_font_color='rgb(169, 169, 169)',\n",
    "\n",
    "    xaxis_showgrid=False,\n",
    "    xaxis_tickfont_color='rgb(169, 169, 169)',\n",
    "    \n",
    "    yaxis_title_text='<b>USD vs YEN</b>',\n",
    "    yaxis_title_font_color='rgb(169, 169, 169)',\n",
    "    yaxis_gridcolor='rgba(137, 209, 133, 0.3)',\n",
    "    yaxis_ticks='outside',\n",
    "    yaxis_tickcolor='rgba(137, 209, 133, 0.5)',\n",
    "    yaxis_tickfont_color='rgb(169, 169, 169)',\n",
    "\n",
    "    paper_bgcolor='rgb(30, 30, 30)',\n",
    "    plot_bgcolor='rgb(37, 37, 38)',\n",
    "    width=900,\n",
    "    height=600,\n",
    ")\n",
    "\n",
    "fig.show()"
   ]
  },
  {
   "source": [
    "### Mix external data\n",
    "#### US Department Of Labor - Unemployment Insurance Related Data\n",
    "\n",
    "- raw data: https://oui.doleta.gov/unemploy/csv/ar539.csv\n",
    "- data map: https://oui.doleta.gov/dmstree/handbooks/402/402_4/4024c6/4024c6.pdf#ETA539\n",
    "- handbook, pages 3 and 13: https://wdr.doleta.gov/directives/attach/ETAH/ETHand401_4th_s01.pdf\n",
    "\n",
    "#### Understanding and selecting the data:\n",
    "The data map brings us the metadata of the table, mapping the column numbers to acronyms:\n",
    "![Data Map Report 539](../images/metadata/data_map_ar539.png \"Data Map Report 539.\")\n",
    "\n",
    "The handbook gives us the content of each column explaining the acronym, as such:\n",
    "![Handbook 401 ETA 539](../images/metadata/data_handbook_401_pg_13_ETA539.png \"Handbook 401 ETA 539.\")\n",
    "\n",
    "For this comparison, let's use the IC data, which is found in column c3.\n",
    "\n",
    "I wrote some logic to download the raw data file and write it to disk only once. So, the first time you run this notebook, this block of code will take a little to finish depending on your connection speed."
   ],
   "cell_type": "markdown",
   "metadata": {}
  },
  {
   "cell_type": "code",
   "execution_count": null,
   "metadata": {},
   "outputs": [],
   "source": [
    "# This is for downloading and saving the raw data only once.\n",
    "raw_data_file = r'./data/ar539.csv'\n",
    "if not os.path.exists(raw_data_file):\n",
    "    os.makedirs(r'./data', exist_ok=True)\n",
    "    response = requests.get(r'https://oui.doleta.gov/unemploy/csv/ar539.csv')\n",
    "    with open(raw_data_file, mode='w') as of:\n",
    "        text_content = response.content.decode()\n",
    "        of.write(text_content)\n",
    "\n",
    "df_claims = pd.read_csv(\n",
    "    raw_data_file,\n",
    "    usecols=['st', 'c2','c3'],\n",
    "    parse_dates=['c2']\n",
    ").rename(\n",
    "    columns={'c2':'dt_end', 'c3':'ic'}\n",
    ")\n",
    "\n",
    "df_claims_slice = df_claims[\n",
    "    (df_claims['dt_end'] >= np.datetime64(date_from.replace(tzinfo=None))) &\n",
    "    (df_claims['dt_end'] <= np.datetime64(date_to.replace(tzinfo=None)))].copy()"
   ]
  },
  {
   "source": [
    "The raw data from the government's website is published weekly, but our data from MT5 is monthly. Then, the code below offsets all dates to the beginning of the month and sum all the weekly values."
   ],
   "cell_type": "markdown",
   "metadata": {}
  },
  {
   "cell_type": "code",
   "execution_count": null,
   "metadata": {},
   "outputs": [],
   "source": [
    "df_claims_slice['dt_end_offset'] = df_claims_slice['dt_end'] - offsets.MonthBegin()\n",
    "df_claims_slice = df_claims_slice.groupby(['dt_end_offset'], as_index=False).agg({'ic':'sum'})\n",
    "df_claims_slice"
   ]
  },
  {
   "source": [
    "### Adding the Trace of the External Data to the Secondary Axes"
   ],
   "cell_type": "markdown",
   "metadata": {}
  },
  {
   "cell_type": "code",
   "execution_count": null,
   "metadata": {},
   "outputs": [],
   "source": [
    "fig.add_trace(\n",
    "    go.Scatter(\n",
    "        x=df_claims_slice['dt_end_offset'],\n",
    "        y=df_claims_slice['ic'],\n",
    "        name='Initial Claims',\n",
    "        mode='lines'\n",
    "    ),\n",
    "    secondary_y=True, #  This tells Plotly which axis we are addressing to add the trace to.\n",
    ")\n",
    "\n",
    "fig.update_layout(\n",
    "    title_text='USD vs YEN and Unemployment Benefits Claims',\n",
    "    legend_x=1.08,\n",
    ")\n",
    "\n",
    "fig.update_yaxes(\n",
    "    secondary_y=True, #  Same here to configure aesthetics.\n",
    "    title_text=\"<b># Claims</b>\",\n",
    "    title_font_color='rgb(169, 169, 169)',\n",
    "\n",
    "    showgrid=True,\n",
    "    zeroline=False,\n",
    "\n",
    "    gridcolor='rgba(214, 120, 101, 0.3)',\n",
    "    ticks='outside',\n",
    "    tickcolor='rgba(214, 120, 101, 0.5)',\n",
    "    tickfont_color='rgb(169, 169, 169)',\n",
    ")\n",
    "\n",
    "fig.show()"
   ]
  },
  {
   "source": [
    "## Conclusion\n",
    "\n",
    "Although we can create powerful charts and financial indicators using the Metatrader platform, you can complement your analysis using this python integration.\n",
    "\n",
    "It enables you to pull fresh data from the terminal, manipulate and join with any dataset to create richier analysis.\n",
    "\n",
    "This is also valuable for more advanced tasks like automating trade (sending buy/sell orders) or backtesting trade strategies."
   ],
   "cell_type": "markdown",
   "metadata": {}
  }
 ]
}