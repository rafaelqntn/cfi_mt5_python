{
 "metadata": {
  "language_info": {
   "codemirror_mode": {
    "name": "ipython",
    "version": 3
   },
   "file_extension": ".py",
   "mimetype": "text/x-python",
   "name": "python",
   "nbconvert_exporter": "python",
   "pygments_lexer": "ipython3",
   "version": "3.9.1-final"
  },
  "orig_nbformat": 2,
  "kernelspec": {
   "name": "python3",
   "display_name": "Python 3.9.1 64-bit ('venv')",
   "metadata": {
    "interpreter": {
     "hash": "eb39e9c8c73b9549412177890b151ee15656eafc04bbe8cb34128633eef07fdd"
    }
   }
  }
 },
 "nbformat": 4,
 "nbformat_minor": 2,
 "cells": [
  {
   "source": [
    "# MT5 Python Connection\n",
    "\n",
    "Reference [documentation](https://www.mql5.com/en/docs/integration/python_metatrader5).\n",
    "\n",
    "For safety, I will use an `.env` file to store credentials and configurations.\n",
    "\n",
    "You can edit this file with your own data."
   ],
   "cell_type": "markdown",
   "metadata": {}
  },
  {
   "source": [
    "## Import the Required Modules and Setup of Global Variables\n",
    "\n",
    "The code below imports the required python modules.\n",
    "\n",
    "Bear in mind that you should have run the installation: `pip install -r requirements.txt` in the same __active__ environment used by the `ipython` kernel."
   ],
   "cell_type": "markdown",
   "metadata": {}
  },
  {
   "cell_type": "code",
   "execution_count": 15,
   "metadata": {},
   "outputs": [],
   "source": [
    "from datetime import datetime as dt\n",
    "import os\n",
    "import pprint\n",
    "import pytz\n",
    "\n",
    "import MetaTrader5 as mt5\n",
    "import numpy as np\n",
    "import pandas as pd\n",
    "import plotly.graph_objects as go\n",
    "import requests\n",
    "\n",
    "from dotenv import dotenv_values\n",
    "from pandas.tseries import offsets\n",
    "from plotly.subplots import make_subplots\n",
    "\n",
    "# Globals\n",
    "pp = pprint.PrettyPrinter(indent=4)\n",
    "config = {\n",
    "    **dotenv_values(\".env\")\n",
    "}"
   ]
  },
  {
   "source": [
    "## Create the Connection With the Terminal\n",
    "\n",
    "The code block below connects python to the MT5 terminal.\n",
    "\n",
    "It is important to mention that you need to close and reopen the terminal if you restart this script. The `initialize` function does not reconnect to a previously opened terminal.\n",
    "\n",
    "I used `PrettyPrinter` here to make the console output look tidy and nicely formatted."
   ],
   "cell_type": "markdown",
   "metadata": {}
  },
  {
   "cell_type": "code",
   "execution_count": 16,
   "metadata": {},
   "outputs": [],
   "source": [
    "connected = mt5.initialize(\n",
    "    path=config['MT5_PATH'],               # path to the MetaTrader 5 terminal EXE file\n",
    "    login=int(config['LOGIN']),            # account number as integer, not text string\n",
    "    password=config['PASSWORD'],           # password\n",
    "    server=config['SERVER'],               # server name as it is specified in the terminal\n",
    "    timeout=int(config['TIMEOUT']),        # the time to wait for responses before failing\n",
    "    portable=config['PORTABLE'] == 'True'  # portable mode, must be True or False in the .env file.\n",
    ")\n",
    "if not connected:\n",
    "    print(\"initialize() failed, error code =\", mt5.last_error())\n",
    "    raise Exception('Could not connect')"
   ]
  },
  {
   "source": [
    "The __PORTABLE__ parameter sets the platform to run in the Portable mode, which means that the platform will try to read configurations from the installation folder instead of the special user's home directory.\n",
    "\n",
    "In other words, if you have a default Metatrader installation, setting this flag to __True will not work__ because there will be no configurations on the installation folder.\n",
    "\n",
    "If you start this using the False value, the terminal will start with all your configurations in place."
   ],
   "cell_type": "markdown",
   "metadata": {}
  },
  {
   "cell_type": "code",
   "execution_count": 17,
   "metadata": {},
   "outputs": [
    {
     "output_type": "stream",
     "name": "stdout",
     "text": [
      "Terminal Info\n{   'build': 2861,\n    'codepage': 0,\n    'commondata_path': 'C:\\\\Users\\\\rafae\\\\AppData\\\\Roaming\\\\MetaQuotes\\\\Terminal\\\\Common',\n    'community_account': False,\n    'community_balance': 0.0,\n    'community_connection': False,\n    'company': 'XP Investimentos CCTVM S/A',\n    'connected': True,\n    'data_path': 'C:\\\\Users\\\\rafae\\\\AppData\\\\Roaming\\\\MetaQuotes\\\\Terminal\\\\FB9A56D617EDDDFE29EE54EBEFFE96C1',\n    'dlls_allowed': True,\n    'email_enabled': False,\n    'ftp_enabled': False,\n    'language': 'English',\n    'maxbars': 100000,\n    'mqid': False,\n    'name': 'MetaTrader 5 Terminal',\n    'notifications_enabled': False,\n    'path': 'C:\\\\Program Files\\\\MetaTrader 5 Terminal',\n    'ping_last': 0,\n    'retransmission': 0.0,\n    'trade_allowed': True,\n    'tradeapi_disabled': False}\nAccount Info\n{   'assets': 0.0,\n    'balance': 100000.0,\n    'commission_blocked': 0.0,\n    'company': 'MetaQuotes Software Corp.',\n    'credit': 0.0,\n    'currency': 'USD',\n    'currency_digits': 2,\n    'equity': 100000.0,\n    'fifo_close': False,\n    'leverage': 100,\n    'liabilities': 0.0,\n    'limit_orders': 200,\n    'login': 43320987,\n    'margin': 0.0,\n    'margin_free': 100000.0,\n    'margin_initial': 0.0,\n    'margin_level': 0.0,\n    'margin_maintenance': 0.0,\n    'margin_mode': 2,\n    'margin_so_call': 50.0,\n    'margin_so_mode': 0,\n    'margin_so_so': 30.0,\n    'name': 'Rafael Quintana Rua',\n    'profit': 0.0,\n    'server': 'MetaQuotes-Demo',\n    'trade_allowed': True,\n    'trade_expert': True,\n    'trade_mode': 0}\n"
     ]
    }
   ],
   "source": [
    "print(\"Terminal Info\")\n",
    "pp.pprint(mt5.terminal_info()._asdict())\n",
    "print(\"Account Info\")\n",
    "pp.pprint(mt5.account_info()._asdict())"
   ]
  },
  {
   "source": [
    "We are connected to the platform and are able to extract data from there.\n",
    "\n",
    "## Understand what is happening\n",
    "\n",
    "You are connected to the __Metatrader__ installed on your machine (called here as _terminal_) and all the commands you send to it are then, sent to the remote server that has the access to the market data.\n",
    "\n",
    "So, we are not connecting python to the broker's server directly.\n",
    "\n",
    "In other words the __MetaTrader5__ module allows you to operate the _terminal_ using python code.\n",
    "\n",
    "To demonstrate that, let's add a ticker to the __Market Watch__ window programatically:"
   ],
   "cell_type": "markdown",
   "metadata": {}
  },
  {
   "cell_type": "code",
   "execution_count": 18,
   "metadata": {},
   "outputs": [
    {
     "output_type": "execute_result",
     "data": {
      "text/plain": [
       "True"
      ]
     },
     "metadata": {},
     "execution_count": 18
    }
   ],
   "source": [
    "mt5.symbol_select('EURUSD', True) # Change this from True to False and check the terminal."
   ]
  },
  {
   "source": [
    "The code block above adds (or remove) the ticker from the __Market Watch__ window. Look for your ticker. If you added a new one, scroll to the bottom of the list.\n",
    "\n",
    "This operation can be performed using the terminal, pressing the plus sign indicated below:\n",
    "\n",
    "![Metatrader, market watch window](../images/metatrader/MT5_MARKET_WATCH_WINDOW.png \"Metatrader, market watch window\")"
   ],
   "cell_type": "markdown",
   "metadata": {}
  },
  {
   "source": [
    "## Explore the API\n",
    "\n",
    "### Getting the number of Financial Instruments available"
   ],
   "cell_type": "markdown",
   "metadata": {}
  },
  {
   "cell_type": "code",
   "execution_count": 19,
   "metadata": {},
   "outputs": [
    {
     "output_type": "execute_result",
     "data": {
      "text/plain": [
       "131"
      ]
     },
     "metadata": {},
     "execution_count": 19
    }
   ],
   "source": [
    "n_symbols = mt5.symbols_total()\n",
    "n_symbols"
   ]
  },
  {
   "source": [
    "See how it matches the count in the market watch window:\n",
    "\n",
    "![Metatrader, market watch window](../images/metatrader/MT5_MARKET_WATCH_WINDOW_SYMBOLS_COUNT.png \"Metatrader, market watch window\")"
   ],
   "cell_type": "markdown",
   "metadata": {}
  },
  {
   "source": [
    "### Listing all Symbols Data at Once\n",
    "\n",
    "It returns a tuple and its elements can be accessed by the tuple index like this:"
   ],
   "cell_type": "markdown",
   "metadata": {}
  },
  {
   "source": [
    "symbols = mt5.symbols_get()\n",
    "pp.pprint(symbols[0]._asdict())"
   ],
   "cell_type": "code",
   "metadata": {},
   "execution_count": 20,
   "outputs": [
    {
     "output_type": "stream",
     "name": "stdout",
     "text": [
      "{   'ask': 1.17182,\n    'askhigh': 1.17739,\n    'asklow': 1.17115,\n    'bank': '',\n    'basis': '',\n    'bid': 1.1718,\n    'bidhigh': 1.17736,\n    'bidlow': 1.17114,\n    'category': '',\n    'chart_mode': 0,\n    'currency_base': 'EUR',\n    'currency_margin': 'EUR',\n    'currency_profit': 'USD',\n    'custom': False,\n    'description': 'Euro vs US Dollar',\n    'digits': 5,\n    'exchange': '',\n    'expiration_mode': 15,\n    'expiration_time': 0,\n    'filling_mode': 1,\n    'formula': '',\n    'isin': '',\n    'last': 0.0,\n    'lasthigh': 0.0,\n    'lastlow': 0.0,\n    'margin_hedged': 100000.0,\n    'margin_hedged_use_leg': False,\n    'margin_initial': 0.0,\n    'margin_maintenance': 0.0,\n    'name': 'EURUSD',\n    'option_mode': 0,\n    'option_right': 0,\n    'option_strike': 0.0,\n    'order_gtc_mode': 0,\n    'order_mode': 127,\n    'page': 'http://www.google.com/finance?q=EURUSD',\n    'path': 'Forex\\\\EURUSD',\n    'point': 1e-05,\n    'price_change': -0.3927,\n    'price_greeks_delta': 0.0,\n    'price_greeks_gamma': 0.0,\n    'price_greeks_omega': 0.0,\n    'price_greeks_rho': 0.0,\n    'price_greeks_theta': 0.0,\n    'price_greeks_vega': 0.0,\n    'price_sensitivity': 0.0,\n    'price_theoretical': 0.0,\n    'price_volatility': 0.0,\n    'select': True,\n    'session_aw': 0.0,\n    'session_buy_orders': 0,\n    'session_buy_orders_volume': 0.0,\n    'session_close': 1.17642,\n    'session_deals': 0,\n    'session_interest': 0.0,\n    'session_open': 1.1764000000000001,\n    'session_price_limit_max': 0.0,\n    'session_price_limit_min': 0.0,\n    'session_price_settlement': 0.0,\n    'session_sell_orders': 0,\n    'session_sell_orders_volume': 0.0,\n    'session_turnover': 0.0,\n    'session_volume': 0.0,\n    'spread': 2,\n    'spread_float': True,\n    'start_time': 0,\n    'swap_long': -0.7,\n    'swap_mode': 1,\n    'swap_rollover3days': 3,\n    'swap_short': -1.0,\n    'ticks_bookdepth': 10,\n    'time': 1617134511,\n    'trade_accrued_interest': 0.0,\n    'trade_calc_mode': 0,\n    'trade_contract_size': 100000.0,\n    'trade_exemode': 1,\n    'trade_face_value': 0.0,\n    'trade_freeze_level': 0,\n    'trade_liquidity_rate': 0.0,\n    'trade_mode': 4,\n    'trade_stops_level': 0,\n    'trade_tick_size': 1e-05,\n    'trade_tick_value': 1.0,\n    'trade_tick_value_loss': 1.0,\n    'trade_tick_value_profit': 1.0,\n    'visible': True,\n    'volume': 0,\n    'volume_limit': 0.0,\n    'volume_max': 500.0,\n    'volume_min': 0.01,\n    'volume_real': 0.0,\n    'volume_step': 0.01,\n    'volumehigh': 0,\n    'volumehigh_real': 0.0,\n    'volumelow': 0,\n    'volumelow_real': 0.0}\n"
     ]
    }
   ]
  },
  {
   "source": [
    "### Listing Symbols by Group\n",
    "\n",
    "The `group` parameter works like a simplified \"regular expression\" to filter the symbols name according to its names. Examples:\n",
    "\n",
    "\\*USD\\* matches all symbols containing USD in the name.\n",
    "\n",
    "!\\*USD\\* matches all symbols that do __not__ contain USD in the name."
   ],
   "cell_type": "markdown",
   "metadata": {}
  },
  {
   "source": [
    "grouped_symbols = mt5.symbols_get(group=\"*USD*, *EUR*\")\n",
    "pp.pprint(grouped_symbols[0]._asdict())"
   ],
   "cell_type": "code",
   "metadata": {},
   "execution_count": 21,
   "outputs": [
    {
     "output_type": "stream",
     "name": "stdout",
     "text": [
      "{   'ask': 1.17182,\n    'askhigh': 1.17739,\n    'asklow': 1.17115,\n    'bank': '',\n    'basis': '',\n    'bid': 1.1718,\n    'bidhigh': 1.17736,\n    'bidlow': 1.17114,\n    'category': '',\n    'chart_mode': 0,\n    'currency_base': 'EUR',\n    'currency_margin': 'EUR',\n    'currency_profit': 'USD',\n    'custom': False,\n    'description': 'Euro vs US Dollar',\n    'digits': 5,\n    'exchange': '',\n    'expiration_mode': 15,\n    'expiration_time': 0,\n    'filling_mode': 1,\n    'formula': '',\n    'isin': '',\n    'last': 0.0,\n    'lasthigh': 0.0,\n    'lastlow': 0.0,\n    'margin_hedged': 100000.0,\n    'margin_hedged_use_leg': False,\n    'margin_initial': 0.0,\n    'margin_maintenance': 0.0,\n    'name': 'EURUSD',\n    'option_mode': 0,\n    'option_right': 0,\n    'option_strike': 0.0,\n    'order_gtc_mode': 0,\n    'order_mode': 127,\n    'page': 'http://www.google.com/finance?q=EURUSD',\n    'path': 'Forex\\\\EURUSD',\n    'point': 1e-05,\n    'price_change': -0.3927,\n    'price_greeks_delta': 0.0,\n    'price_greeks_gamma': 0.0,\n    'price_greeks_omega': 0.0,\n    'price_greeks_rho': 0.0,\n    'price_greeks_theta': 0.0,\n    'price_greeks_vega': 0.0,\n    'price_sensitivity': 0.0,\n    'price_theoretical': 0.0,\n    'price_volatility': 0.0,\n    'select': True,\n    'session_aw': 0.0,\n    'session_buy_orders': 0,\n    'session_buy_orders_volume': 0.0,\n    'session_close': 1.17642,\n    'session_deals': 0,\n    'session_interest': 0.0,\n    'session_open': 1.1764000000000001,\n    'session_price_limit_max': 0.0,\n    'session_price_limit_min': 0.0,\n    'session_price_settlement': 0.0,\n    'session_sell_orders': 0,\n    'session_sell_orders_volume': 0.0,\n    'session_turnover': 0.0,\n    'session_volume': 0.0,\n    'spread': 2,\n    'spread_float': True,\n    'start_time': 0,\n    'swap_long': -0.7,\n    'swap_mode': 1,\n    'swap_rollover3days': 3,\n    'swap_short': -1.0,\n    'ticks_bookdepth': 10,\n    'time': 1617134511,\n    'trade_accrued_interest': 0.0,\n    'trade_calc_mode': 0,\n    'trade_contract_size': 100000.0,\n    'trade_exemode': 1,\n    'trade_face_value': 0.0,\n    'trade_freeze_level': 0,\n    'trade_liquidity_rate': 0.0,\n    'trade_mode': 4,\n    'trade_stops_level': 0,\n    'trade_tick_size': 1e-05,\n    'trade_tick_value': 1.0,\n    'trade_tick_value_loss': 1.0,\n    'trade_tick_value_profit': 1.0,\n    'visible': True,\n    'volume': 0,\n    'volume_limit': 0.0,\n    'volume_max': 500.0,\n    'volume_min': 0.01,\n    'volume_real': 0.0,\n    'volume_step': 0.01,\n    'volumehigh': 0,\n    'volumehigh_real': 0.0,\n    'volumelow': 0,\n    'volumelow_real': 0.0}\n"
     ]
    }
   ]
  },
  {
   "source": [
    "### Get Data From a Single Symbol"
   ],
   "cell_type": "markdown",
   "metadata": {}
  },
  {
   "cell_type": "code",
   "execution_count": 22,
   "metadata": {},
   "outputs": [
    {
     "output_type": "stream",
     "name": "stdout",
     "text": [
      "{   'ask': 0.0,\n",
      "    'askhigh': 0.0,\n",
      "    'asklow': 0.0,\n",
      "    'bank': '',\n",
      "    'basis': '',\n",
      "    'bid': 0.0,\n",
      "    'bidhigh': 0.0,\n",
      "    'bidlow': 0.0,\n",
      "    'category': '',\n",
      "    'chart_mode': 0,\n",
      "    'currency_base': 'EUR',\n",
      "    'currency_margin': 'EUR',\n",
      "    'currency_profit': 'JPY',\n",
      "    'custom': False,\n",
      "    'description': 'Euro vs Yen',\n",
      "    'digits': 3,\n",
      "    'exchange': '',\n",
      "    'expiration_mode': 7,\n",
      "    'expiration_time': 0,\n",
      "    'filling_mode': 1,\n",
      "    'formula': '',\n",
      "    'isin': '',\n",
      "    'last': 0.0,\n",
      "    'lasthigh': 0.0,\n",
      "    'lastlow': 0.0,\n",
      "    'margin_hedged': 100000.0,\n",
      "    'margin_hedged_use_leg': False,\n",
      "    'margin_initial': 0.0,\n",
      "    'margin_maintenance': 0.0,\n",
      "    'name': 'EURJPY',\n",
      "    'option_mode': 0,\n",
      "    'option_right': 0,\n",
      "    'option_strike': 0.0,\n",
      "    'order_gtc_mode': 0,\n",
      "    'order_mode': 127,\n",
      "    'page': 'http://www.google.com/finance?q=EURJPY',\n",
      "    'path': 'Forex\\\\EURJPY',\n",
      "    'point': 0.001,\n",
      "    'price_change': 0.0,\n",
      "    'price_greeks_delta': 0.0,\n",
      "    'price_greeks_gamma': 0.0,\n",
      "    'price_greeks_omega': 0.0,\n",
      "    'price_greeks_rho': 0.0,\n",
      "    'price_greeks_theta': 0.0,\n",
      "    'price_greeks_vega': 0.0,\n",
      "    'price_sensitivity': 0.0,\n",
      "    'price_theoretical': 0.0,\n",
      "    'price_volatility': 0.0,\n",
      "    'select': False,\n",
      "    'session_aw': 0.0,\n",
      "    'session_buy_orders': 0,\n",
      "    'session_buy_orders_volume': 0.0,\n",
      "    'session_close': 0.0,\n",
      "    'session_deals': 0,\n",
      "    'session_interest': 0.0,\n",
      "    'session_open': 0.0,\n",
      "    'session_price_limit_max': 0.0,\n",
      "    'session_price_limit_min': 0.0,\n",
      "    'session_price_settlement': 0.0,\n",
      "    'session_sell_orders': 0,\n",
      "    'session_sell_orders_volume': 0.0,\n",
      "    'session_turnover': 0.0,\n",
      "    'session_volume': 0.0,\n",
      "    'spread': 0,\n",
      "    'spread_float': True,\n",
      "    'start_time': 0,\n",
      "    'swap_long': -0.2,\n",
      "    'swap_mode': 1,\n",
      "    'swap_rollover3days': 3,\n",
      "    'swap_short': -1.2,\n",
      "    'ticks_bookdepth': 10,\n",
      "    'time': 0,\n",
      "    'trade_accrued_interest': 0.0,\n",
      "    'trade_calc_mode': 0,\n",
      "    'trade_contract_size': 100000.0,\n",
      "    'trade_exemode': 1,\n",
      "    'trade_face_value': 0.0,\n",
      "    'trade_freeze_level': 0,\n",
      "    'trade_liquidity_rate': 0.0,\n",
      "    'trade_mode': 4,\n",
      "    'trade_stops_level': 0,\n",
      "    'trade_tick_size': 0.001,\n",
      "    'trade_tick_value': 0.9067251806649923,\n",
      "    'trade_tick_value_loss': 0.9067334022450718,\n",
      "    'trade_tick_value_profit': 0.9067251806649923,\n",
      "    'visible': False,\n",
      "    'volume': 0,\n",
      "    'volume_limit': 0.0,\n",
      "    'volume_max': 500.0,\n",
      "    'volume_min': 0.01,\n",
      "    'volume_real': 0.0,\n",
      "    'volume_step': 0.01,\n",
      "    'volumehigh': 0,\n",
      "    'volumehigh_real': 0.0,\n",
      "    'volumelow': 0,\n",
      "    'volumelow_real': 0.0}\n"
     ]
    }
   ],
   "source": [
    "symbol_info=mt5.symbol_info(\"EURJPY\")\n",
    "pp.pprint(symbol_info._asdict())"
   ]
  },
  {
   "source": [
    "### Getting Ticker Rates Data\n",
    "\n",
    "To get ticker data, you have 5 functions.\n",
    "\n",
    "Using these two, you can specify one of the 21 timeframes (the aggregation level) available in MetaTrader.\n",
    "\n",
    "The timeframes are enums and the names follow the rule:\n",
    "```\n",
    "TIMEFRAME_ + M for minutes + 1, 2, 3, 4, 5, 6, 10, 12, 15, 20, 30\n",
    "           + H for hours + 1, 2, 3, 4, 6, 8, 12\n",
    "           + D for day + 1\n",
    "           + W for week + 1\n",
    "           + MN for month + 1\n",
    "```\n",
    "\n",
    "Example: TIMEFRAME_M30 you give you the ticker data summarized in 30 minutes interval.\n",
    "\n",
    "__copy_rates_from__: Get bars from the MetaTrader 5 terminal starting from the specified date.\n",
    "\n",
    "__copy_rates_from_pos__: Get bars from the MetaTrader 5 terminal starting from the specified index.\n",
    "\n",
    "__copy_rates_range__: Get bars in the specified date range from the MetaTrader 5 terminal.\n",
    "\n",
    "__copy_ticks_from__: Get ticks from the MetaTrader 5 terminal starting from the specified date and a number of ticks.\n",
    "\n",
    "__copy_ticks_range__: Get ticks for the specified date range from the MetaTrader 5 terminal.\n",
    "\n",
    "We will use the `copy_ticks_from` function in the next notebook. If you are curious, go there and check it out."
   ],
   "cell_type": "markdown",
   "metadata": {}
  },
  {
   "source": [
    "### Get Ticker Data From a Timespan\n",
    "The code below retrieves `USDJPY` (US dollars vs Japanese Yens) data between 2020-01-01 and 2021-02-28 and creates a pandas `DataFrame` to manipulate the data."
   ],
   "cell_type": "markdown",
   "metadata": {}
  },
  {
   "source": [
    "timezone = pytz.timezone(\"UTC\")\n",
    "date_from = dt(2019,11,1, tzinfo=timezone)\n",
    "date_to = dt(2021,3,31, tzinfo=timezone)\n",
    "timeframe = mt5.TIMEFRAME_MN1\n",
    "symbol = 'USDJPY'\n",
    "\n",
    "rates = mt5.copy_rates_range(\n",
    "    symbol,\n",
    "    timeframe,\n",
    "    date_from,\n",
    "    date_to\n",
    ")\n",
    "\n",
    "df_rates = pd.DataFrame(rates)\n",
    "df_rates['time'] = pd.to_datetime(df_rates['time'], unit='s')\n",
    "\n",
    "df_rates"
   ],
   "cell_type": "code",
   "metadata": {},
   "execution_count": 23,
   "outputs": [
    {
     "output_type": "execute_result",
     "data": {
      "text/plain": [
       "         time     open     high      low    close  tick_volume  spread  \\\n",
       "0  2019-11-01  108.019  109.669  107.884  109.487       800424       2   \n",
       "1  2019-12-01  109.517  109.726  108.426  108.658       702030       2   \n",
       "2  2020-01-01  108.705  110.287  107.647  108.346       887299       2   \n",
       "3  2020-02-01  108.431  112.225  107.506  108.062      1333127       2   \n",
       "4  2020-03-01  107.513  111.711  101.177  107.485      4590436       0   \n",
       "5  2020-04-01  107.547  109.379  106.356  107.130      2383793       0   \n",
       "6  2020-05-01  107.118  108.085  105.985  107.785       938227       0   \n",
       "7  2020-06-01  107.674  109.848  106.071  107.923      1106720       0   \n",
       "8  2020-07-01  107.924  108.161  104.185  105.927       866830       0   \n",
       "9  2020-08-01  105.769  107.047  105.099  105.898      1009714       0   \n",
       "10 2020-09-01  105.900  106.550  103.999  105.445       894671       0   \n",
       "11 2020-10-01  105.519  106.107  104.023  104.667       864026       0   \n",
       "12 2020-11-01  104.488  105.676  103.175  104.315      1035886       0   \n",
       "13 2020-12-01  104.306  104.751  102.875  103.253      1363051       0   \n",
       "14 2021-01-01  103.121  104.940  102.591  104.723      1188932       0   \n",
       "15 2021-02-01  104.765  106.695  104.408  106.552      1013390       0   \n",
       "16 2021-03-01  106.476  110.428  106.365  110.286      1361639       0   \n",
       "\n",
       "    real_volume  \n",
       "0             0  \n",
       "1             0  \n",
       "2             0  \n",
       "3             0  \n",
       "4             0  \n",
       "5             0  \n",
       "6             0  \n",
       "7             0  \n",
       "8             0  \n",
       "9             0  \n",
       "10            0  \n",
       "11            0  \n",
       "12            0  \n",
       "13            0  \n",
       "14            0  \n",
       "15            0  \n",
       "16            0  "
      ],
      "text/html": "<div>\n<style scoped>\n    .dataframe tbody tr th:only-of-type {\n        vertical-align: middle;\n    }\n\n    .dataframe tbody tr th {\n        vertical-align: top;\n    }\n\n    .dataframe thead th {\n        text-align: right;\n    }\n</style>\n<table border=\"1\" class=\"dataframe\">\n  <thead>\n    <tr style=\"text-align: right;\">\n      <th></th>\n      <th>time</th>\n      <th>open</th>\n      <th>high</th>\n      <th>low</th>\n      <th>close</th>\n      <th>tick_volume</th>\n      <th>spread</th>\n      <th>real_volume</th>\n    </tr>\n  </thead>\n  <tbody>\n    <tr>\n      <th>0</th>\n      <td>2019-11-01</td>\n      <td>108.019</td>\n      <td>109.669</td>\n      <td>107.884</td>\n      <td>109.487</td>\n      <td>800424</td>\n      <td>2</td>\n      <td>0</td>\n    </tr>\n    <tr>\n      <th>1</th>\n      <td>2019-12-01</td>\n      <td>109.517</td>\n      <td>109.726</td>\n      <td>108.426</td>\n      <td>108.658</td>\n      <td>702030</td>\n      <td>2</td>\n      <td>0</td>\n    </tr>\n    <tr>\n      <th>2</th>\n      <td>2020-01-01</td>\n      <td>108.705</td>\n      <td>110.287</td>\n      <td>107.647</td>\n      <td>108.346</td>\n      <td>887299</td>\n      <td>2</td>\n      <td>0</td>\n    </tr>\n    <tr>\n      <th>3</th>\n      <td>2020-02-01</td>\n      <td>108.431</td>\n      <td>112.225</td>\n      <td>107.506</td>\n      <td>108.062</td>\n      <td>1333127</td>\n      <td>2</td>\n      <td>0</td>\n    </tr>\n    <tr>\n      <th>4</th>\n      <td>2020-03-01</td>\n      <td>107.513</td>\n      <td>111.711</td>\n      <td>101.177</td>\n      <td>107.485</td>\n      <td>4590436</td>\n      <td>0</td>\n      <td>0</td>\n    </tr>\n    <tr>\n      <th>5</th>\n      <td>2020-04-01</td>\n      <td>107.547</td>\n      <td>109.379</td>\n      <td>106.356</td>\n      <td>107.130</td>\n      <td>2383793</td>\n      <td>0</td>\n      <td>0</td>\n    </tr>\n    <tr>\n      <th>6</th>\n      <td>2020-05-01</td>\n      <td>107.118</td>\n      <td>108.085</td>\n      <td>105.985</td>\n      <td>107.785</td>\n      <td>938227</td>\n      <td>0</td>\n      <td>0</td>\n    </tr>\n    <tr>\n      <th>7</th>\n      <td>2020-06-01</td>\n      <td>107.674</td>\n      <td>109.848</td>\n      <td>106.071</td>\n      <td>107.923</td>\n      <td>1106720</td>\n      <td>0</td>\n      <td>0</td>\n    </tr>\n    <tr>\n      <th>8</th>\n      <td>2020-07-01</td>\n      <td>107.924</td>\n      <td>108.161</td>\n      <td>104.185</td>\n      <td>105.927</td>\n      <td>866830</td>\n      <td>0</td>\n      <td>0</td>\n    </tr>\n    <tr>\n      <th>9</th>\n      <td>2020-08-01</td>\n      <td>105.769</td>\n      <td>107.047</td>\n      <td>105.099</td>\n      <td>105.898</td>\n      <td>1009714</td>\n      <td>0</td>\n      <td>0</td>\n    </tr>\n    <tr>\n      <th>10</th>\n      <td>2020-09-01</td>\n      <td>105.900</td>\n      <td>106.550</td>\n      <td>103.999</td>\n      <td>105.445</td>\n      <td>894671</td>\n      <td>0</td>\n      <td>0</td>\n    </tr>\n    <tr>\n      <th>11</th>\n      <td>2020-10-01</td>\n      <td>105.519</td>\n      <td>106.107</td>\n      <td>104.023</td>\n      <td>104.667</td>\n      <td>864026</td>\n      <td>0</td>\n      <td>0</td>\n    </tr>\n    <tr>\n      <th>12</th>\n      <td>2020-11-01</td>\n      <td>104.488</td>\n      <td>105.676</td>\n      <td>103.175</td>\n      <td>104.315</td>\n      <td>1035886</td>\n      <td>0</td>\n      <td>0</td>\n    </tr>\n    <tr>\n      <th>13</th>\n      <td>2020-12-01</td>\n      <td>104.306</td>\n      <td>104.751</td>\n      <td>102.875</td>\n      <td>103.253</td>\n      <td>1363051</td>\n      <td>0</td>\n      <td>0</td>\n    </tr>\n    <tr>\n      <th>14</th>\n      <td>2021-01-01</td>\n      <td>103.121</td>\n      <td>104.940</td>\n      <td>102.591</td>\n      <td>104.723</td>\n      <td>1188932</td>\n      <td>0</td>\n      <td>0</td>\n    </tr>\n    <tr>\n      <th>15</th>\n      <td>2021-02-01</td>\n      <td>104.765</td>\n      <td>106.695</td>\n      <td>104.408</td>\n      <td>106.552</td>\n      <td>1013390</td>\n      <td>0</td>\n      <td>0</td>\n    </tr>\n    <tr>\n      <th>16</th>\n      <td>2021-03-01</td>\n      <td>106.476</td>\n      <td>110.428</td>\n      <td>106.365</td>\n      <td>110.286</td>\n      <td>1361639</td>\n      <td>0</td>\n      <td>0</td>\n    </tr>\n  </tbody>\n</table>\n</div>"
     },
     "metadata": {},
     "execution_count": 23
    }
   ]
  },
  {
   "source": [
    "## Plot Data Using Plotly\n",
    "\n",
    "The first plot is the traditional candlestick. As we get the data from the terminal, this is a good chance to see how the data matches.\n",
    "\n",
    "As the parameters required to plot a candlestick chart match the format of the data we extract from the MT5 terminal, ploting this chart is straightforward. Almost no manipulation is required."
   ],
   "cell_type": "markdown",
   "metadata": {}
  },
  {
   "cell_type": "code",
   "execution_count": 24,
   "metadata": {},
   "outputs": [
    {
     "output_type": "display_data",
     "data": {
      "application/vnd.plotly.v1+json": {
       "config": {
        "plotlyServerURL": "https://plot.ly"
       },
       "data": [
        {
         "close": [
          109.487,
          108.658,
          108.346,
          108.062,
          107.485,
          107.13,
          107.785,
          107.923,
          105.927,
          105.898,
          105.445,
          104.667,
          104.315,
          103.253,
          104.723,
          106.552,
          110.286
         ],
         "high": [
          109.669,
          109.726,
          110.287,
          112.225,
          111.711,
          109.379,
          108.085,
          109.848,
          108.161,
          107.047,
          106.55,
          106.107,
          105.676,
          104.751,
          104.94,
          106.695,
          110.428
         ],
         "low": [
          107.884,
          108.426,
          107.647,
          107.506,
          101.177,
          106.356,
          105.985,
          106.071,
          104.185,
          105.099,
          103.999,
          104.023,
          103.175,
          102.875,
          102.591,
          104.408,
          106.365
         ],
         "open": [
          108.019,
          109.517,
          108.705,
          108.431,
          107.513,
          107.547,
          107.118,
          107.674,
          107.924,
          105.769,
          105.9,
          105.519,
          104.488,
          104.306,
          103.121,
          104.765,
          106.476
         ],
         "type": "candlestick",
         "x": [
          "2019-11-01T00:00:00",
          "2019-12-01T00:00:00",
          "2020-01-01T00:00:00",
          "2020-02-01T00:00:00",
          "2020-03-01T00:00:00",
          "2020-04-01T00:00:00",
          "2020-05-01T00:00:00",
          "2020-06-01T00:00:00",
          "2020-07-01T00:00:00",
          "2020-08-01T00:00:00",
          "2020-09-01T00:00:00",
          "2020-10-01T00:00:00",
          "2020-11-01T00:00:00",
          "2020-12-01T00:00:00",
          "2021-01-01T00:00:00",
          "2021-02-01T00:00:00",
          "2021-03-01T00:00:00"
         ]
        }
       ],
       "layout": {
        "plot_bgcolor": "white",
        "template": {
         "data": {
          "bar": [
           {
            "error_x": {
             "color": "#2a3f5f"
            },
            "error_y": {
             "color": "#2a3f5f"
            },
            "marker": {
             "line": {
              "color": "#E5ECF6",
              "width": 0.5
             }
            },
            "type": "bar"
           }
          ],
          "barpolar": [
           {
            "marker": {
             "line": {
              "color": "#E5ECF6",
              "width": 0.5
             }
            },
            "type": "barpolar"
           }
          ],
          "carpet": [
           {
            "aaxis": {
             "endlinecolor": "#2a3f5f",
             "gridcolor": "white",
             "linecolor": "white",
             "minorgridcolor": "white",
             "startlinecolor": "#2a3f5f"
            },
            "baxis": {
             "endlinecolor": "#2a3f5f",
             "gridcolor": "white",
             "linecolor": "white",
             "minorgridcolor": "white",
             "startlinecolor": "#2a3f5f"
            },
            "type": "carpet"
           }
          ],
          "choropleth": [
           {
            "colorbar": {
             "outlinewidth": 0,
             "ticks": ""
            },
            "type": "choropleth"
           }
          ],
          "contour": [
           {
            "colorbar": {
             "outlinewidth": 0,
             "ticks": ""
            },
            "colorscale": [
             [
              0,
              "#0d0887"
             ],
             [
              0.1111111111111111,
              "#46039f"
             ],
             [
              0.2222222222222222,
              "#7201a8"
             ],
             [
              0.3333333333333333,
              "#9c179e"
             ],
             [
              0.4444444444444444,
              "#bd3786"
             ],
             [
              0.5555555555555556,
              "#d8576b"
             ],
             [
              0.6666666666666666,
              "#ed7953"
             ],
             [
              0.7777777777777778,
              "#fb9f3a"
             ],
             [
              0.8888888888888888,
              "#fdca26"
             ],
             [
              1,
              "#f0f921"
             ]
            ],
            "type": "contour"
           }
          ],
          "contourcarpet": [
           {
            "colorbar": {
             "outlinewidth": 0,
             "ticks": ""
            },
            "type": "contourcarpet"
           }
          ],
          "heatmap": [
           {
            "colorbar": {
             "outlinewidth": 0,
             "ticks": ""
            },
            "colorscale": [
             [
              0,
              "#0d0887"
             ],
             [
              0.1111111111111111,
              "#46039f"
             ],
             [
              0.2222222222222222,
              "#7201a8"
             ],
             [
              0.3333333333333333,
              "#9c179e"
             ],
             [
              0.4444444444444444,
              "#bd3786"
             ],
             [
              0.5555555555555556,
              "#d8576b"
             ],
             [
              0.6666666666666666,
              "#ed7953"
             ],
             [
              0.7777777777777778,
              "#fb9f3a"
             ],
             [
              0.8888888888888888,
              "#fdca26"
             ],
             [
              1,
              "#f0f921"
             ]
            ],
            "type": "heatmap"
           }
          ],
          "heatmapgl": [
           {
            "colorbar": {
             "outlinewidth": 0,
             "ticks": ""
            },
            "colorscale": [
             [
              0,
              "#0d0887"
             ],
             [
              0.1111111111111111,
              "#46039f"
             ],
             [
              0.2222222222222222,
              "#7201a8"
             ],
             [
              0.3333333333333333,
              "#9c179e"
             ],
             [
              0.4444444444444444,
              "#bd3786"
             ],
             [
              0.5555555555555556,
              "#d8576b"
             ],
             [
              0.6666666666666666,
              "#ed7953"
             ],
             [
              0.7777777777777778,
              "#fb9f3a"
             ],
             [
              0.8888888888888888,
              "#fdca26"
             ],
             [
              1,
              "#f0f921"
             ]
            ],
            "type": "heatmapgl"
           }
          ],
          "histogram": [
           {
            "marker": {
             "colorbar": {
              "outlinewidth": 0,
              "ticks": ""
             }
            },
            "type": "histogram"
           }
          ],
          "histogram2d": [
           {
            "colorbar": {
             "outlinewidth": 0,
             "ticks": ""
            },
            "colorscale": [
             [
              0,
              "#0d0887"
             ],
             [
              0.1111111111111111,
              "#46039f"
             ],
             [
              0.2222222222222222,
              "#7201a8"
             ],
             [
              0.3333333333333333,
              "#9c179e"
             ],
             [
              0.4444444444444444,
              "#bd3786"
             ],
             [
              0.5555555555555556,
              "#d8576b"
             ],
             [
              0.6666666666666666,
              "#ed7953"
             ],
             [
              0.7777777777777778,
              "#fb9f3a"
             ],
             [
              0.8888888888888888,
              "#fdca26"
             ],
             [
              1,
              "#f0f921"
             ]
            ],
            "type": "histogram2d"
           }
          ],
          "histogram2dcontour": [
           {
            "colorbar": {
             "outlinewidth": 0,
             "ticks": ""
            },
            "colorscale": [
             [
              0,
              "#0d0887"
             ],
             [
              0.1111111111111111,
              "#46039f"
             ],
             [
              0.2222222222222222,
              "#7201a8"
             ],
             [
              0.3333333333333333,
              "#9c179e"
             ],
             [
              0.4444444444444444,
              "#bd3786"
             ],
             [
              0.5555555555555556,
              "#d8576b"
             ],
             [
              0.6666666666666666,
              "#ed7953"
             ],
             [
              0.7777777777777778,
              "#fb9f3a"
             ],
             [
              0.8888888888888888,
              "#fdca26"
             ],
             [
              1,
              "#f0f921"
             ]
            ],
            "type": "histogram2dcontour"
           }
          ],
          "mesh3d": [
           {
            "colorbar": {
             "outlinewidth": 0,
             "ticks": ""
            },
            "type": "mesh3d"
           }
          ],
          "parcoords": [
           {
            "line": {
             "colorbar": {
              "outlinewidth": 0,
              "ticks": ""
             }
            },
            "type": "parcoords"
           }
          ],
          "pie": [
           {
            "automargin": true,
            "type": "pie"
           }
          ],
          "scatter": [
           {
            "marker": {
             "colorbar": {
              "outlinewidth": 0,
              "ticks": ""
             }
            },
            "type": "scatter"
           }
          ],
          "scatter3d": [
           {
            "line": {
             "colorbar": {
              "outlinewidth": 0,
              "ticks": ""
             }
            },
            "marker": {
             "colorbar": {
              "outlinewidth": 0,
              "ticks": ""
             }
            },
            "type": "scatter3d"
           }
          ],
          "scattercarpet": [
           {
            "marker": {
             "colorbar": {
              "outlinewidth": 0,
              "ticks": ""
             }
            },
            "type": "scattercarpet"
           }
          ],
          "scattergeo": [
           {
            "marker": {
             "colorbar": {
              "outlinewidth": 0,
              "ticks": ""
             }
            },
            "type": "scattergeo"
           }
          ],
          "scattergl": [
           {
            "marker": {
             "colorbar": {
              "outlinewidth": 0,
              "ticks": ""
             }
            },
            "type": "scattergl"
           }
          ],
          "scattermapbox": [
           {
            "marker": {
             "colorbar": {
              "outlinewidth": 0,
              "ticks": ""
             }
            },
            "type": "scattermapbox"
           }
          ],
          "scatterpolar": [
           {
            "marker": {
             "colorbar": {
              "outlinewidth": 0,
              "ticks": ""
             }
            },
            "type": "scatterpolar"
           }
          ],
          "scatterpolargl": [
           {
            "marker": {
             "colorbar": {
              "outlinewidth": 0,
              "ticks": ""
             }
            },
            "type": "scatterpolargl"
           }
          ],
          "scatterternary": [
           {
            "marker": {
             "colorbar": {
              "outlinewidth": 0,
              "ticks": ""
             }
            },
            "type": "scatterternary"
           }
          ],
          "surface": [
           {
            "colorbar": {
             "outlinewidth": 0,
             "ticks": ""
            },
            "colorscale": [
             [
              0,
              "#0d0887"
             ],
             [
              0.1111111111111111,
              "#46039f"
             ],
             [
              0.2222222222222222,
              "#7201a8"
             ],
             [
              0.3333333333333333,
              "#9c179e"
             ],
             [
              0.4444444444444444,
              "#bd3786"
             ],
             [
              0.5555555555555556,
              "#d8576b"
             ],
             [
              0.6666666666666666,
              "#ed7953"
             ],
             [
              0.7777777777777778,
              "#fb9f3a"
             ],
             [
              0.8888888888888888,
              "#fdca26"
             ],
             [
              1,
              "#f0f921"
             ]
            ],
            "type": "surface"
           }
          ],
          "table": [
           {
            "cells": {
             "fill": {
              "color": "#EBF0F8"
             },
             "line": {
              "color": "white"
             }
            },
            "header": {
             "fill": {
              "color": "#C8D4E3"
             },
             "line": {
              "color": "white"
             }
            },
            "type": "table"
           }
          ]
         },
         "layout": {
          "annotationdefaults": {
           "arrowcolor": "#2a3f5f",
           "arrowhead": 0,
           "arrowwidth": 1
          },
          "autotypenumbers": "strict",
          "coloraxis": {
           "colorbar": {
            "outlinewidth": 0,
            "ticks": ""
           }
          },
          "colorscale": {
           "diverging": [
            [
             0,
             "#8e0152"
            ],
            [
             0.1,
             "#c51b7d"
            ],
            [
             0.2,
             "#de77ae"
            ],
            [
             0.3,
             "#f1b6da"
            ],
            [
             0.4,
             "#fde0ef"
            ],
            [
             0.5,
             "#f7f7f7"
            ],
            [
             0.6,
             "#e6f5d0"
            ],
            [
             0.7,
             "#b8e186"
            ],
            [
             0.8,
             "#7fbc41"
            ],
            [
             0.9,
             "#4d9221"
            ],
            [
             1,
             "#276419"
            ]
           ],
           "sequential": [
            [
             0,
             "#0d0887"
            ],
            [
             0.1111111111111111,
             "#46039f"
            ],
            [
             0.2222222222222222,
             "#7201a8"
            ],
            [
             0.3333333333333333,
             "#9c179e"
            ],
            [
             0.4444444444444444,
             "#bd3786"
            ],
            [
             0.5555555555555556,
             "#d8576b"
            ],
            [
             0.6666666666666666,
             "#ed7953"
            ],
            [
             0.7777777777777778,
             "#fb9f3a"
            ],
            [
             0.8888888888888888,
             "#fdca26"
            ],
            [
             1,
             "#f0f921"
            ]
           ],
           "sequentialminus": [
            [
             0,
             "#0d0887"
            ],
            [
             0.1111111111111111,
             "#46039f"
            ],
            [
             0.2222222222222222,
             "#7201a8"
            ],
            [
             0.3333333333333333,
             "#9c179e"
            ],
            [
             0.4444444444444444,
             "#bd3786"
            ],
            [
             0.5555555555555556,
             "#d8576b"
            ],
            [
             0.6666666666666666,
             "#ed7953"
            ],
            [
             0.7777777777777778,
             "#fb9f3a"
            ],
            [
             0.8888888888888888,
             "#fdca26"
            ],
            [
             1,
             "#f0f921"
            ]
           ]
          },
          "colorway": [
           "#636efa",
           "#EF553B",
           "#00cc96",
           "#ab63fa",
           "#FFA15A",
           "#19d3f3",
           "#FF6692",
           "#B6E880",
           "#FF97FF",
           "#FECB52"
          ],
          "font": {
           "color": "#2a3f5f"
          },
          "geo": {
           "bgcolor": "white",
           "lakecolor": "white",
           "landcolor": "#E5ECF6",
           "showlakes": true,
           "showland": true,
           "subunitcolor": "white"
          },
          "hoverlabel": {
           "align": "left"
          },
          "hovermode": "closest",
          "mapbox": {
           "style": "light"
          },
          "paper_bgcolor": "white",
          "plot_bgcolor": "#E5ECF6",
          "polar": {
           "angularaxis": {
            "gridcolor": "white",
            "linecolor": "white",
            "ticks": ""
           },
           "bgcolor": "#E5ECF6",
           "radialaxis": {
            "gridcolor": "white",
            "linecolor": "white",
            "ticks": ""
           }
          },
          "scene": {
           "xaxis": {
            "backgroundcolor": "#E5ECF6",
            "gridcolor": "white",
            "gridwidth": 2,
            "linecolor": "white",
            "showbackground": true,
            "ticks": "",
            "zerolinecolor": "white"
           },
           "yaxis": {
            "backgroundcolor": "#E5ECF6",
            "gridcolor": "white",
            "gridwidth": 2,
            "linecolor": "white",
            "showbackground": true,
            "ticks": "",
            "zerolinecolor": "white"
           },
           "zaxis": {
            "backgroundcolor": "#E5ECF6",
            "gridcolor": "white",
            "gridwidth": 2,
            "linecolor": "white",
            "showbackground": true,
            "ticks": "",
            "zerolinecolor": "white"
           }
          },
          "shapedefaults": {
           "line": {
            "color": "#2a3f5f"
           }
          },
          "ternary": {
           "aaxis": {
            "gridcolor": "white",
            "linecolor": "white",
            "ticks": ""
           },
           "baxis": {
            "gridcolor": "white",
            "linecolor": "white",
            "ticks": ""
           },
           "bgcolor": "#E5ECF6",
           "caxis": {
            "gridcolor": "white",
            "linecolor": "white",
            "ticks": ""
           }
          },
          "title": {
           "x": 0.05
          },
          "xaxis": {
           "automargin": true,
           "gridcolor": "white",
           "linecolor": "white",
           "ticks": "",
           "title": {
            "standoff": 15
           },
           "zerolinecolor": "white",
           "zerolinewidth": 2
          },
          "yaxis": {
           "automargin": true,
           "gridcolor": "white",
           "linecolor": "white",
           "ticks": "",
           "title": {
            "standoff": 15
           },
           "zerolinecolor": "white",
           "zerolinewidth": 2
          }
         }
        },
        "title": {
         "font": {
          "size": 24
         },
         "text": "Candlestick: USD vs YEN"
        },
        "xaxis": {
         "showgrid": false,
         "tickfont": {
          "color": "gray"
         }
        },
        "yaxis": {
         "gridcolor": "lightgray",
         "tickcolor": "lightgray",
         "tickfont": {
          "color": "gray"
         },
         "ticks": "outside"
        }
       }
      }
     },
     "metadata": {}
    }
   ],
   "source": [
    "def plot_candlestick():\n",
    "    fig = go.Figure(\n",
    "        data=go.Candlestick(\n",
    "            x=df_rates['time'],\n",
    "            open=df_rates['open'],\n",
    "            high=df_rates['high'],\n",
    "            low=df_rates['low'],\n",
    "            close=df_rates['close']\n",
    "        )\n",
    "    )\n",
    "    fig.update_layout(\n",
    "        title_text='Candlestick: USD vs YEN',\n",
    "        title_font_size=24,\n",
    "        plot_bgcolor='white',\n",
    "    )\n",
    "    fig.update_xaxes(\n",
    "        showgrid=False,\n",
    "        tickfont_color='gray'\n",
    "    )\n",
    "    fig.update_yaxes(\n",
    "        gridcolor='lightgray',\n",
    "        tickcolor='lightgray',\n",
    "        ticks=\"outside\",\n",
    "        tickfont_color='gray'\n",
    "    )\n",
    "    return fig\n",
    "\n",
    "plot_candlestick()"
   ]
  },
  {
   "source": [
    "By default, Plotly give us a \"range slider\" below the x axis. You can play with it to \"zoom in\" a specific period.\n",
    "\n",
    "For comparison, this is the plot from the terminal, from the same period using timeframe MN1.\n",
    "![Plot from MT5 terminal](../images/charts/MT5_USDJPY_MN1.png \"Plot from MT5 terminal.\")"
   ],
   "cell_type": "markdown",
   "metadata": {}
  },
  {
   "source": [
    "Next, let's see how to add many series to a single plot using Plotly."
   ],
   "cell_type": "markdown",
   "metadata": {}
  },
  {
   "cell_type": "code",
   "execution_count": 25,
   "metadata": {},
   "outputs": [
    {
     "output_type": "display_data",
     "data": {
      "application/vnd.plotly.v1+json": {
       "config": {
        "plotlyServerURL": "https://plot.ly"
       },
       "data": [
        {
         "mode": "lines",
         "name": "Open",
         "type": "scatter",
         "visible": "legendonly",
         "x": [
          "2019-11-01T00:00:00",
          "2019-12-01T00:00:00",
          "2020-01-01T00:00:00",
          "2020-02-01T00:00:00",
          "2020-03-01T00:00:00",
          "2020-04-01T00:00:00",
          "2020-05-01T00:00:00",
          "2020-06-01T00:00:00",
          "2020-07-01T00:00:00",
          "2020-08-01T00:00:00",
          "2020-09-01T00:00:00",
          "2020-10-01T00:00:00",
          "2020-11-01T00:00:00",
          "2020-12-01T00:00:00",
          "2021-01-01T00:00:00",
          "2021-02-01T00:00:00",
          "2021-03-01T00:00:00"
         ],
         "y": [
          108.019,
          109.517,
          108.705,
          108.431,
          107.513,
          107.547,
          107.118,
          107.674,
          107.924,
          105.769,
          105.9,
          105.519,
          104.488,
          104.306,
          103.121,
          104.765,
          106.476
         ]
        },
        {
         "mode": "lines",
         "name": "Close",
         "type": "scatter",
         "visible": "legendonly",
         "x": [
          "2019-11-01T00:00:00",
          "2019-12-01T00:00:00",
          "2020-01-01T00:00:00",
          "2020-02-01T00:00:00",
          "2020-03-01T00:00:00",
          "2020-04-01T00:00:00",
          "2020-05-01T00:00:00",
          "2020-06-01T00:00:00",
          "2020-07-01T00:00:00",
          "2020-08-01T00:00:00",
          "2020-09-01T00:00:00",
          "2020-10-01T00:00:00",
          "2020-11-01T00:00:00",
          "2020-12-01T00:00:00",
          "2021-01-01T00:00:00",
          "2021-02-01T00:00:00",
          "2021-03-01T00:00:00"
         ],
         "y": [
          109.487,
          108.658,
          108.346,
          108.062,
          107.485,
          107.13,
          107.785,
          107.923,
          105.927,
          105.898,
          105.445,
          104.667,
          104.315,
          103.253,
          104.723,
          106.552,
          110.286
         ]
        },
        {
         "mode": "lines",
         "name": "High",
         "type": "scatter",
         "visible": "legendonly",
         "x": [
          "2019-11-01T00:00:00",
          "2019-12-01T00:00:00",
          "2020-01-01T00:00:00",
          "2020-02-01T00:00:00",
          "2020-03-01T00:00:00",
          "2020-04-01T00:00:00",
          "2020-05-01T00:00:00",
          "2020-06-01T00:00:00",
          "2020-07-01T00:00:00",
          "2020-08-01T00:00:00",
          "2020-09-01T00:00:00",
          "2020-10-01T00:00:00",
          "2020-11-01T00:00:00",
          "2020-12-01T00:00:00",
          "2021-01-01T00:00:00",
          "2021-02-01T00:00:00",
          "2021-03-01T00:00:00"
         ],
         "y": [
          109.669,
          109.726,
          110.287,
          112.225,
          111.711,
          109.379,
          108.085,
          109.848,
          108.161,
          107.047,
          106.55,
          106.107,
          105.676,
          104.751,
          104.94,
          106.695,
          110.428
         ]
        },
        {
         "mode": "lines",
         "name": "Low",
         "type": "scatter",
         "visible": true,
         "x": [
          "2019-11-01T00:00:00",
          "2019-12-01T00:00:00",
          "2020-01-01T00:00:00",
          "2020-02-01T00:00:00",
          "2020-03-01T00:00:00",
          "2020-04-01T00:00:00",
          "2020-05-01T00:00:00",
          "2020-06-01T00:00:00",
          "2020-07-01T00:00:00",
          "2020-08-01T00:00:00",
          "2020-09-01T00:00:00",
          "2020-10-01T00:00:00",
          "2020-11-01T00:00:00",
          "2020-12-01T00:00:00",
          "2021-01-01T00:00:00",
          "2021-02-01T00:00:00",
          "2021-03-01T00:00:00"
         ],
         "y": [
          107.884,
          108.426,
          107.647,
          107.506,
          101.177,
          106.356,
          105.985,
          106.071,
          104.185,
          105.099,
          103.999,
          104.023,
          103.175,
          102.875,
          102.591,
          104.408,
          106.365
         ]
        }
       ],
       "layout": {
        "height": 600,
        "legend": {
         "font": {
          "color": "rgb(169, 169, 169)",
          "size": 16
         },
         "title": {
          "font": {
           "color": "rgb(169, 169, 169)",
           "size": 20
          },
          "text": "Series"
         }
        },
        "paper_bgcolor": "rgb(30, 30, 30)",
        "plot_bgcolor": "rgb(37, 37, 38)",
        "template": {
         "data": {
          "bar": [
           {
            "error_x": {
             "color": "#2a3f5f"
            },
            "error_y": {
             "color": "#2a3f5f"
            },
            "marker": {
             "line": {
              "color": "#E5ECF6",
              "width": 0.5
             }
            },
            "type": "bar"
           }
          ],
          "barpolar": [
           {
            "marker": {
             "line": {
              "color": "#E5ECF6",
              "width": 0.5
             }
            },
            "type": "barpolar"
           }
          ],
          "carpet": [
           {
            "aaxis": {
             "endlinecolor": "#2a3f5f",
             "gridcolor": "white",
             "linecolor": "white",
             "minorgridcolor": "white",
             "startlinecolor": "#2a3f5f"
            },
            "baxis": {
             "endlinecolor": "#2a3f5f",
             "gridcolor": "white",
             "linecolor": "white",
             "minorgridcolor": "white",
             "startlinecolor": "#2a3f5f"
            },
            "type": "carpet"
           }
          ],
          "choropleth": [
           {
            "colorbar": {
             "outlinewidth": 0,
             "ticks": ""
            },
            "type": "choropleth"
           }
          ],
          "contour": [
           {
            "colorbar": {
             "outlinewidth": 0,
             "ticks": ""
            },
            "colorscale": [
             [
              0,
              "#0d0887"
             ],
             [
              0.1111111111111111,
              "#46039f"
             ],
             [
              0.2222222222222222,
              "#7201a8"
             ],
             [
              0.3333333333333333,
              "#9c179e"
             ],
             [
              0.4444444444444444,
              "#bd3786"
             ],
             [
              0.5555555555555556,
              "#d8576b"
             ],
             [
              0.6666666666666666,
              "#ed7953"
             ],
             [
              0.7777777777777778,
              "#fb9f3a"
             ],
             [
              0.8888888888888888,
              "#fdca26"
             ],
             [
              1,
              "#f0f921"
             ]
            ],
            "type": "contour"
           }
          ],
          "contourcarpet": [
           {
            "colorbar": {
             "outlinewidth": 0,
             "ticks": ""
            },
            "type": "contourcarpet"
           }
          ],
          "heatmap": [
           {
            "colorbar": {
             "outlinewidth": 0,
             "ticks": ""
            },
            "colorscale": [
             [
              0,
              "#0d0887"
             ],
             [
              0.1111111111111111,
              "#46039f"
             ],
             [
              0.2222222222222222,
              "#7201a8"
             ],
             [
              0.3333333333333333,
              "#9c179e"
             ],
             [
              0.4444444444444444,
              "#bd3786"
             ],
             [
              0.5555555555555556,
              "#d8576b"
             ],
             [
              0.6666666666666666,
              "#ed7953"
             ],
             [
              0.7777777777777778,
              "#fb9f3a"
             ],
             [
              0.8888888888888888,
              "#fdca26"
             ],
             [
              1,
              "#f0f921"
             ]
            ],
            "type": "heatmap"
           }
          ],
          "heatmapgl": [
           {
            "colorbar": {
             "outlinewidth": 0,
             "ticks": ""
            },
            "colorscale": [
             [
              0,
              "#0d0887"
             ],
             [
              0.1111111111111111,
              "#46039f"
             ],
             [
              0.2222222222222222,
              "#7201a8"
             ],
             [
              0.3333333333333333,
              "#9c179e"
             ],
             [
              0.4444444444444444,
              "#bd3786"
             ],
             [
              0.5555555555555556,
              "#d8576b"
             ],
             [
              0.6666666666666666,
              "#ed7953"
             ],
             [
              0.7777777777777778,
              "#fb9f3a"
             ],
             [
              0.8888888888888888,
              "#fdca26"
             ],
             [
              1,
              "#f0f921"
             ]
            ],
            "type": "heatmapgl"
           }
          ],
          "histogram": [
           {
            "marker": {
             "colorbar": {
              "outlinewidth": 0,
              "ticks": ""
             }
            },
            "type": "histogram"
           }
          ],
          "histogram2d": [
           {
            "colorbar": {
             "outlinewidth": 0,
             "ticks": ""
            },
            "colorscale": [
             [
              0,
              "#0d0887"
             ],
             [
              0.1111111111111111,
              "#46039f"
             ],
             [
              0.2222222222222222,
              "#7201a8"
             ],
             [
              0.3333333333333333,
              "#9c179e"
             ],
             [
              0.4444444444444444,
              "#bd3786"
             ],
             [
              0.5555555555555556,
              "#d8576b"
             ],
             [
              0.6666666666666666,
              "#ed7953"
             ],
             [
              0.7777777777777778,
              "#fb9f3a"
             ],
             [
              0.8888888888888888,
              "#fdca26"
             ],
             [
              1,
              "#f0f921"
             ]
            ],
            "type": "histogram2d"
           }
          ],
          "histogram2dcontour": [
           {
            "colorbar": {
             "outlinewidth": 0,
             "ticks": ""
            },
            "colorscale": [
             [
              0,
              "#0d0887"
             ],
             [
              0.1111111111111111,
              "#46039f"
             ],
             [
              0.2222222222222222,
              "#7201a8"
             ],
             [
              0.3333333333333333,
              "#9c179e"
             ],
             [
              0.4444444444444444,
              "#bd3786"
             ],
             [
              0.5555555555555556,
              "#d8576b"
             ],
             [
              0.6666666666666666,
              "#ed7953"
             ],
             [
              0.7777777777777778,
              "#fb9f3a"
             ],
             [
              0.8888888888888888,
              "#fdca26"
             ],
             [
              1,
              "#f0f921"
             ]
            ],
            "type": "histogram2dcontour"
           }
          ],
          "mesh3d": [
           {
            "colorbar": {
             "outlinewidth": 0,
             "ticks": ""
            },
            "type": "mesh3d"
           }
          ],
          "parcoords": [
           {
            "line": {
             "colorbar": {
              "outlinewidth": 0,
              "ticks": ""
             }
            },
            "type": "parcoords"
           }
          ],
          "pie": [
           {
            "automargin": true,
            "type": "pie"
           }
          ],
          "scatter": [
           {
            "marker": {
             "colorbar": {
              "outlinewidth": 0,
              "ticks": ""
             }
            },
            "type": "scatter"
           }
          ],
          "scatter3d": [
           {
            "line": {
             "colorbar": {
              "outlinewidth": 0,
              "ticks": ""
             }
            },
            "marker": {
             "colorbar": {
              "outlinewidth": 0,
              "ticks": ""
             }
            },
            "type": "scatter3d"
           }
          ],
          "scattercarpet": [
           {
            "marker": {
             "colorbar": {
              "outlinewidth": 0,
              "ticks": ""
             }
            },
            "type": "scattercarpet"
           }
          ],
          "scattergeo": [
           {
            "marker": {
             "colorbar": {
              "outlinewidth": 0,
              "ticks": ""
             }
            },
            "type": "scattergeo"
           }
          ],
          "scattergl": [
           {
            "marker": {
             "colorbar": {
              "outlinewidth": 0,
              "ticks": ""
             }
            },
            "type": "scattergl"
           }
          ],
          "scattermapbox": [
           {
            "marker": {
             "colorbar": {
              "outlinewidth": 0,
              "ticks": ""
             }
            },
            "type": "scattermapbox"
           }
          ],
          "scatterpolar": [
           {
            "marker": {
             "colorbar": {
              "outlinewidth": 0,
              "ticks": ""
             }
            },
            "type": "scatterpolar"
           }
          ],
          "scatterpolargl": [
           {
            "marker": {
             "colorbar": {
              "outlinewidth": 0,
              "ticks": ""
             }
            },
            "type": "scatterpolargl"
           }
          ],
          "scatterternary": [
           {
            "marker": {
             "colorbar": {
              "outlinewidth": 0,
              "ticks": ""
             }
            },
            "type": "scatterternary"
           }
          ],
          "surface": [
           {
            "colorbar": {
             "outlinewidth": 0,
             "ticks": ""
            },
            "colorscale": [
             [
              0,
              "#0d0887"
             ],
             [
              0.1111111111111111,
              "#46039f"
             ],
             [
              0.2222222222222222,
              "#7201a8"
             ],
             [
              0.3333333333333333,
              "#9c179e"
             ],
             [
              0.4444444444444444,
              "#bd3786"
             ],
             [
              0.5555555555555556,
              "#d8576b"
             ],
             [
              0.6666666666666666,
              "#ed7953"
             ],
             [
              0.7777777777777778,
              "#fb9f3a"
             ],
             [
              0.8888888888888888,
              "#fdca26"
             ],
             [
              1,
              "#f0f921"
             ]
            ],
            "type": "surface"
           }
          ],
          "table": [
           {
            "cells": {
             "fill": {
              "color": "#EBF0F8"
             },
             "line": {
              "color": "white"
             }
            },
            "header": {
             "fill": {
              "color": "#C8D4E3"
             },
             "line": {
              "color": "white"
             }
            },
            "type": "table"
           }
          ]
         },
         "layout": {
          "annotationdefaults": {
           "arrowcolor": "#2a3f5f",
           "arrowhead": 0,
           "arrowwidth": 1
          },
          "autotypenumbers": "strict",
          "coloraxis": {
           "colorbar": {
            "outlinewidth": 0,
            "ticks": ""
           }
          },
          "colorscale": {
           "diverging": [
            [
             0,
             "#8e0152"
            ],
            [
             0.1,
             "#c51b7d"
            ],
            [
             0.2,
             "#de77ae"
            ],
            [
             0.3,
             "#f1b6da"
            ],
            [
             0.4,
             "#fde0ef"
            ],
            [
             0.5,
             "#f7f7f7"
            ],
            [
             0.6,
             "#e6f5d0"
            ],
            [
             0.7,
             "#b8e186"
            ],
            [
             0.8,
             "#7fbc41"
            ],
            [
             0.9,
             "#4d9221"
            ],
            [
             1,
             "#276419"
            ]
           ],
           "sequential": [
            [
             0,
             "#0d0887"
            ],
            [
             0.1111111111111111,
             "#46039f"
            ],
            [
             0.2222222222222222,
             "#7201a8"
            ],
            [
             0.3333333333333333,
             "#9c179e"
            ],
            [
             0.4444444444444444,
             "#bd3786"
            ],
            [
             0.5555555555555556,
             "#d8576b"
            ],
            [
             0.6666666666666666,
             "#ed7953"
            ],
            [
             0.7777777777777778,
             "#fb9f3a"
            ],
            [
             0.8888888888888888,
             "#fdca26"
            ],
            [
             1,
             "#f0f921"
            ]
           ],
           "sequentialminus": [
            [
             0,
             "#0d0887"
            ],
            [
             0.1111111111111111,
             "#46039f"
            ],
            [
             0.2222222222222222,
             "#7201a8"
            ],
            [
             0.3333333333333333,
             "#9c179e"
            ],
            [
             0.4444444444444444,
             "#bd3786"
            ],
            [
             0.5555555555555556,
             "#d8576b"
            ],
            [
             0.6666666666666666,
             "#ed7953"
            ],
            [
             0.7777777777777778,
             "#fb9f3a"
            ],
            [
             0.8888888888888888,
             "#fdca26"
            ],
            [
             1,
             "#f0f921"
            ]
           ]
          },
          "colorway": [
           "#636efa",
           "#EF553B",
           "#00cc96",
           "#ab63fa",
           "#FFA15A",
           "#19d3f3",
           "#FF6692",
           "#B6E880",
           "#FF97FF",
           "#FECB52"
          ],
          "font": {
           "color": "#2a3f5f"
          },
          "geo": {
           "bgcolor": "white",
           "lakecolor": "white",
           "landcolor": "#E5ECF6",
           "showlakes": true,
           "showland": true,
           "subunitcolor": "white"
          },
          "hoverlabel": {
           "align": "left"
          },
          "hovermode": "closest",
          "mapbox": {
           "style": "light"
          },
          "paper_bgcolor": "white",
          "plot_bgcolor": "#E5ECF6",
          "polar": {
           "angularaxis": {
            "gridcolor": "white",
            "linecolor": "white",
            "ticks": ""
           },
           "bgcolor": "#E5ECF6",
           "radialaxis": {
            "gridcolor": "white",
            "linecolor": "white",
            "ticks": ""
           }
          },
          "scene": {
           "xaxis": {
            "backgroundcolor": "#E5ECF6",
            "gridcolor": "white",
            "gridwidth": 2,
            "linecolor": "white",
            "showbackground": true,
            "ticks": "",
            "zerolinecolor": "white"
           },
           "yaxis": {
            "backgroundcolor": "#E5ECF6",
            "gridcolor": "white",
            "gridwidth": 2,
            "linecolor": "white",
            "showbackground": true,
            "ticks": "",
            "zerolinecolor": "white"
           },
           "zaxis": {
            "backgroundcolor": "#E5ECF6",
            "gridcolor": "white",
            "gridwidth": 2,
            "linecolor": "white",
            "showbackground": true,
            "ticks": "",
            "zerolinecolor": "white"
           }
          },
          "shapedefaults": {
           "line": {
            "color": "#2a3f5f"
           }
          },
          "ternary": {
           "aaxis": {
            "gridcolor": "white",
            "linecolor": "white",
            "ticks": ""
           },
           "baxis": {
            "gridcolor": "white",
            "linecolor": "white",
            "ticks": ""
           },
           "bgcolor": "#E5ECF6",
           "caxis": {
            "gridcolor": "white",
            "linecolor": "white",
            "ticks": ""
           }
          },
          "title": {
           "x": 0.05
          },
          "xaxis": {
           "automargin": true,
           "gridcolor": "white",
           "linecolor": "white",
           "ticks": "",
           "title": {
            "standoff": 15
           },
           "zerolinecolor": "white",
           "zerolinewidth": 2
          },
          "yaxis": {
           "automargin": true,
           "gridcolor": "white",
           "linecolor": "white",
           "ticks": "",
           "title": {
            "standoff": 15
           },
           "zerolinecolor": "white",
           "zerolinewidth": 2
          }
         }
        },
        "title": {
         "font": {
          "color": "rgb(255, 255, 219)",
          "size": 32
         },
         "text": "USD vs YEN"
        },
        "width": 900,
        "xaxis": {
         "anchor": "y",
         "domain": [
          0,
          0.94
         ],
         "showgrid": false,
         "tickfont": {
          "color": "rgb(169, 169, 169)"
         }
        },
        "yaxis": {
         "anchor": "x",
         "domain": [
          0,
          1
         ],
         "gridcolor": "rgba(137, 209, 133, 0.3)",
         "tickcolor": "rgba(137, 209, 133, 0.5)",
         "tickfont": {
          "color": "rgb(169, 169, 169)"
         },
         "ticks": "outside",
         "title": {
          "font": {
           "color": "rgb(169, 169, 169)"
          },
          "text": "<b>USD vs YEN</b>"
         }
        },
        "yaxis2": {
         "anchor": "x",
         "overlaying": "y",
         "side": "right"
        }
       }
      }
     },
     "metadata": {}
    }
   ],
   "source": [
    "x = df_rates['time']\n",
    "\n",
    "series = ['open', 'close', 'high', 'low']\n",
    "\n",
    "fig = make_subplots(\n",
    "    specs=[\n",
    "        [\n",
    "            {\"secondary_y\": True} #  This tells Plotly that we will create a plot with two y axes. We will add traces to it later on.\n",
    "        ]\n",
    "    ]\n",
    ")\n",
    "\n",
    "for serie in series:\n",
    "    fig.add_trace(\n",
    "        go.Scatter(\n",
    "            x=x,\n",
    "            y=df_rates[serie],\n",
    "            name=serie.capitalize(),\n",
    "            visible=True if serie == 'low' else 'legendonly',\n",
    "            mode='lines'\n",
    "        ),\n",
    "    )\n",
    "\n",
    "fig.update_layout(\n",
    "    title=\"USD vs YEN\",\n",
    "    title_font_size=32,\n",
    "    title_font_color='rgb(255, 255, 219)',\n",
    "\n",
    "    legend_title='Series',\n",
    "    legend_title_font_size=20,\n",
    "    legend_title_font_color='rgb(169, 169, 169)',\n",
    "    legend_font_size=16,\n",
    "    legend_font_color='rgb(169, 169, 169)',\n",
    "\n",
    "    xaxis_showgrid=False,\n",
    "    xaxis_tickfont_color='rgb(169, 169, 169)',\n",
    "    \n",
    "    yaxis_title_text='<b>USD vs YEN</b>',\n",
    "    yaxis_title_font_color='rgb(169, 169, 169)',\n",
    "    yaxis_gridcolor='rgba(137, 209, 133, 0.3)',\n",
    "    yaxis_ticks='outside',\n",
    "    yaxis_tickcolor='rgba(137, 209, 133, 0.5)',\n",
    "    yaxis_tickfont_color='rgb(169, 169, 169)',\n",
    "\n",
    "    paper_bgcolor='rgb(30, 30, 30)',\n",
    "    plot_bgcolor='rgb(37, 37, 38)',\n",
    "    width=900,\n",
    "    height=600,\n",
    ")\n",
    "\n",
    "fig.show()"
   ]
  },
  {
   "source": [
    "### Mix external data\n",
    "- raw data: https://oui.doleta.gov/unemploy/csv/ar539.csv\n",
    "- data map: https://oui.doleta.gov/dmstree/handbooks/402/402_4/4024c6/4024c6.pdf#ETA539\n",
    "- handbook, pages 3 and 13: https://wdr.doleta.gov/directives/attach/ETAH/ETHand401_4th_s01.pdf\n",
    "\n",
    "#### Understanding and selecting the data:\n",
    "The data map brings us the metadata of the table, mapping the column numbers to acronyms:\n",
    "![Data Map Report 539](../images/metadata/data_map_ar539.png \"Data Map Report 539.\")\n",
    "\n",
    "The handbook gives us the content of each column explaining the acronym, as such:\n",
    "![Handbook 401 ETA 539](../images/metadata/data_handbook_401_pg_13_ETA539.png \"Handbook 401 ETA 539.\")\n",
    "\n",
    "For this comparison, let's use the IC data, which is found in column c3.\n",
    "\n",
    "I wrote some logic to download the raw data file and write it to disk only once. So, the first time you run this notebook, this block of code will take a little to finish depending on your connection speed."
   ],
   "cell_type": "markdown",
   "metadata": {}
  },
  {
   "cell_type": "code",
   "execution_count": 26,
   "metadata": {},
   "outputs": [],
   "source": [
    "# This is for downloading and saving the raw data only once.\n",
    "raw_data_file = r'./data/ar539.csv'\n",
    "if not os.path.exists(raw_data_file):\n",
    "    os.makedirs(r'./data', exist_ok=True)\n",
    "    response = requests.get(r'https://oui.doleta.gov/unemploy/csv/ar539.csv')\n",
    "    with open(raw_data_file, mode='w') as of:\n",
    "        text_content = response.content.decode()\n",
    "        of.write(text_content)\n",
    "\n",
    "df_claims = pd.read_csv(\n",
    "    raw_data_file,\n",
    "    usecols=['st', 'c2','c3'],\n",
    "    parse_dates=['c2']\n",
    ").rename(\n",
    "    columns={'c2':'dt_end', 'c3':'ic'}\n",
    ")\n",
    "\n",
    "df_claims_slice = df_claims[\n",
    "    (df_claims['dt_end'] >= np.datetime64(date_from.replace(tzinfo=None))) &\n",
    "    (df_claims['dt_end'] <= np.datetime64(date_to.replace(tzinfo=None)))].copy()"
   ]
  },
  {
   "source": [
    "The raw data from the government's website is published weekly, but our data from MT5 is monthly. Then, the code below offsets all dates to the beginning of the month and sum all the weekly values."
   ],
   "cell_type": "markdown",
   "metadata": {}
  },
  {
   "cell_type": "code",
   "execution_count": 27,
   "metadata": {},
   "outputs": [
    {
     "output_type": "execute_result",
     "data": {
      "text/plain": [
       "   dt_end_offset        ic\n",
       "0     2019-11-01   1251564\n",
       "1     2019-12-01   1203863\n",
       "2     2020-01-01   1288679\n",
       "3     2020-02-01    822927\n",
       "4     2020-03-01  15295555\n",
       "5     2020-04-01  15341344\n",
       "6     2020-05-01   9503121\n",
       "7     2020-06-01   5681192\n",
       "8     2020-07-01   5860264\n",
       "9     2020-08-01   3353848\n",
       "10    2020-09-01   3038049\n",
       "11    2020-10-01   3748472\n",
       "12    2020-11-01   3187648\n",
       "13    2020-12-01   3497685\n",
       "14    2021-01-01   4565467\n",
       "15    2021-02-01   3022965\n",
       "16    2021-03-01    755646"
      ],
      "text/html": "<div>\n<style scoped>\n    .dataframe tbody tr th:only-of-type {\n        vertical-align: middle;\n    }\n\n    .dataframe tbody tr th {\n        vertical-align: top;\n    }\n\n    .dataframe thead th {\n        text-align: right;\n    }\n</style>\n<table border=\"1\" class=\"dataframe\">\n  <thead>\n    <tr style=\"text-align: right;\">\n      <th></th>\n      <th>dt_end_offset</th>\n      <th>ic</th>\n    </tr>\n  </thead>\n  <tbody>\n    <tr>\n      <th>0</th>\n      <td>2019-11-01</td>\n      <td>1251564</td>\n    </tr>\n    <tr>\n      <th>1</th>\n      <td>2019-12-01</td>\n      <td>1203863</td>\n    </tr>\n    <tr>\n      <th>2</th>\n      <td>2020-01-01</td>\n      <td>1288679</td>\n    </tr>\n    <tr>\n      <th>3</th>\n      <td>2020-02-01</td>\n      <td>822927</td>\n    </tr>\n    <tr>\n      <th>4</th>\n      <td>2020-03-01</td>\n      <td>15295555</td>\n    </tr>\n    <tr>\n      <th>5</th>\n      <td>2020-04-01</td>\n      <td>15341344</td>\n    </tr>\n    <tr>\n      <th>6</th>\n      <td>2020-05-01</td>\n      <td>9503121</td>\n    </tr>\n    <tr>\n      <th>7</th>\n      <td>2020-06-01</td>\n      <td>5681192</td>\n    </tr>\n    <tr>\n      <th>8</th>\n      <td>2020-07-01</td>\n      <td>5860264</td>\n    </tr>\n    <tr>\n      <th>9</th>\n      <td>2020-08-01</td>\n      <td>3353848</td>\n    </tr>\n    <tr>\n      <th>10</th>\n      <td>2020-09-01</td>\n      <td>3038049</td>\n    </tr>\n    <tr>\n      <th>11</th>\n      <td>2020-10-01</td>\n      <td>3748472</td>\n    </tr>\n    <tr>\n      <th>12</th>\n      <td>2020-11-01</td>\n      <td>3187648</td>\n    </tr>\n    <tr>\n      <th>13</th>\n      <td>2020-12-01</td>\n      <td>3497685</td>\n    </tr>\n    <tr>\n      <th>14</th>\n      <td>2021-01-01</td>\n      <td>4565467</td>\n    </tr>\n    <tr>\n      <th>15</th>\n      <td>2021-02-01</td>\n      <td>3022965</td>\n    </tr>\n    <tr>\n      <th>16</th>\n      <td>2021-03-01</td>\n      <td>755646</td>\n    </tr>\n  </tbody>\n</table>\n</div>"
     },
     "metadata": {},
     "execution_count": 27
    }
   ],
   "source": [
    "df_claims_slice['dt_end_offset'] = df_claims_slice['dt_end'] - offsets.MonthBegin()\n",
    "df_claims_slice = df_claims_slice.groupby(['dt_end_offset'], as_index=False).agg({'ic':'sum'})\n",
    "df_claims_slice"
   ]
  },
  {
   "source": [
    "### Adding the Trace of the External Data to the Secondary Axes"
   ],
   "cell_type": "markdown",
   "metadata": {}
  },
  {
   "cell_type": "code",
   "execution_count": 28,
   "metadata": {},
   "outputs": [
    {
     "output_type": "display_data",
     "data": {
      "application/vnd.plotly.v1+json": {
       "config": {
        "plotlyServerURL": "https://plot.ly"
       },
       "data": [
        {
         "mode": "lines",
         "name": "Open",
         "type": "scatter",
         "visible": "legendonly",
         "x": [
          "2019-11-01T00:00:00",
          "2019-12-01T00:00:00",
          "2020-01-01T00:00:00",
          "2020-02-01T00:00:00",
          "2020-03-01T00:00:00",
          "2020-04-01T00:00:00",
          "2020-05-01T00:00:00",
          "2020-06-01T00:00:00",
          "2020-07-01T00:00:00",
          "2020-08-01T00:00:00",
          "2020-09-01T00:00:00",
          "2020-10-01T00:00:00",
          "2020-11-01T00:00:00",
          "2020-12-01T00:00:00",
          "2021-01-01T00:00:00",
          "2021-02-01T00:00:00",
          "2021-03-01T00:00:00"
         ],
         "y": [
          108.019,
          109.517,
          108.705,
          108.431,
          107.513,
          107.547,
          107.118,
          107.674,
          107.924,
          105.769,
          105.9,
          105.519,
          104.488,
          104.306,
          103.121,
          104.765,
          106.476
         ]
        },
        {
         "mode": "lines",
         "name": "Close",
         "type": "scatter",
         "visible": "legendonly",
         "x": [
          "2019-11-01T00:00:00",
          "2019-12-01T00:00:00",
          "2020-01-01T00:00:00",
          "2020-02-01T00:00:00",
          "2020-03-01T00:00:00",
          "2020-04-01T00:00:00",
          "2020-05-01T00:00:00",
          "2020-06-01T00:00:00",
          "2020-07-01T00:00:00",
          "2020-08-01T00:00:00",
          "2020-09-01T00:00:00",
          "2020-10-01T00:00:00",
          "2020-11-01T00:00:00",
          "2020-12-01T00:00:00",
          "2021-01-01T00:00:00",
          "2021-02-01T00:00:00",
          "2021-03-01T00:00:00"
         ],
         "y": [
          109.487,
          108.658,
          108.346,
          108.062,
          107.485,
          107.13,
          107.785,
          107.923,
          105.927,
          105.898,
          105.445,
          104.667,
          104.315,
          103.253,
          104.723,
          106.552,
          110.286
         ]
        },
        {
         "mode": "lines",
         "name": "High",
         "type": "scatter",
         "visible": "legendonly",
         "x": [
          "2019-11-01T00:00:00",
          "2019-12-01T00:00:00",
          "2020-01-01T00:00:00",
          "2020-02-01T00:00:00",
          "2020-03-01T00:00:00",
          "2020-04-01T00:00:00",
          "2020-05-01T00:00:00",
          "2020-06-01T00:00:00",
          "2020-07-01T00:00:00",
          "2020-08-01T00:00:00",
          "2020-09-01T00:00:00",
          "2020-10-01T00:00:00",
          "2020-11-01T00:00:00",
          "2020-12-01T00:00:00",
          "2021-01-01T00:00:00",
          "2021-02-01T00:00:00",
          "2021-03-01T00:00:00"
         ],
         "y": [
          109.669,
          109.726,
          110.287,
          112.225,
          111.711,
          109.379,
          108.085,
          109.848,
          108.161,
          107.047,
          106.55,
          106.107,
          105.676,
          104.751,
          104.94,
          106.695,
          110.428
         ]
        },
        {
         "mode": "lines",
         "name": "Low",
         "type": "scatter",
         "visible": true,
         "x": [
          "2019-11-01T00:00:00",
          "2019-12-01T00:00:00",
          "2020-01-01T00:00:00",
          "2020-02-01T00:00:00",
          "2020-03-01T00:00:00",
          "2020-04-01T00:00:00",
          "2020-05-01T00:00:00",
          "2020-06-01T00:00:00",
          "2020-07-01T00:00:00",
          "2020-08-01T00:00:00",
          "2020-09-01T00:00:00",
          "2020-10-01T00:00:00",
          "2020-11-01T00:00:00",
          "2020-12-01T00:00:00",
          "2021-01-01T00:00:00",
          "2021-02-01T00:00:00",
          "2021-03-01T00:00:00"
         ],
         "y": [
          107.884,
          108.426,
          107.647,
          107.506,
          101.177,
          106.356,
          105.985,
          106.071,
          104.185,
          105.099,
          103.999,
          104.023,
          103.175,
          102.875,
          102.591,
          104.408,
          106.365
         ]
        },
        {
         "mode": "lines",
         "name": "Initial Claims",
         "type": "scatter",
         "x": [
          "2019-11-01T00:00:00",
          "2019-12-01T00:00:00",
          "2020-01-01T00:00:00",
          "2020-02-01T00:00:00",
          "2020-03-01T00:00:00",
          "2020-04-01T00:00:00",
          "2020-05-01T00:00:00",
          "2020-06-01T00:00:00",
          "2020-07-01T00:00:00",
          "2020-08-01T00:00:00",
          "2020-09-01T00:00:00",
          "2020-10-01T00:00:00",
          "2020-11-01T00:00:00",
          "2020-12-01T00:00:00",
          "2021-01-01T00:00:00",
          "2021-02-01T00:00:00",
          "2021-03-01T00:00:00"
         ],
         "xaxis": "x",
         "y": [
          1251564,
          1203863,
          1288679,
          822927,
          15295555,
          15341344,
          9503121,
          5681192,
          5860264,
          3353848,
          3038049,
          3748472,
          3187648,
          3497685,
          4565467,
          3022965,
          755646
         ],
         "yaxis": "y2"
        }
       ],
       "layout": {
        "height": 600,
        "legend": {
         "font": {
          "color": "rgb(169, 169, 169)",
          "size": 16
         },
         "title": {
          "font": {
           "color": "rgb(169, 169, 169)",
           "size": 20
          },
          "text": "Series"
         },
         "x": 1.08
        },
        "paper_bgcolor": "rgb(30, 30, 30)",
        "plot_bgcolor": "rgb(37, 37, 38)",
        "template": {
         "data": {
          "bar": [
           {
            "error_x": {
             "color": "#2a3f5f"
            },
            "error_y": {
             "color": "#2a3f5f"
            },
            "marker": {
             "line": {
              "color": "#E5ECF6",
              "width": 0.5
             }
            },
            "type": "bar"
           }
          ],
          "barpolar": [
           {
            "marker": {
             "line": {
              "color": "#E5ECF6",
              "width": 0.5
             }
            },
            "type": "barpolar"
           }
          ],
          "carpet": [
           {
            "aaxis": {
             "endlinecolor": "#2a3f5f",
             "gridcolor": "white",
             "linecolor": "white",
             "minorgridcolor": "white",
             "startlinecolor": "#2a3f5f"
            },
            "baxis": {
             "endlinecolor": "#2a3f5f",
             "gridcolor": "white",
             "linecolor": "white",
             "minorgridcolor": "white",
             "startlinecolor": "#2a3f5f"
            },
            "type": "carpet"
           }
          ],
          "choropleth": [
           {
            "colorbar": {
             "outlinewidth": 0,
             "ticks": ""
            },
            "type": "choropleth"
           }
          ],
          "contour": [
           {
            "colorbar": {
             "outlinewidth": 0,
             "ticks": ""
            },
            "colorscale": [
             [
              0,
              "#0d0887"
             ],
             [
              0.1111111111111111,
              "#46039f"
             ],
             [
              0.2222222222222222,
              "#7201a8"
             ],
             [
              0.3333333333333333,
              "#9c179e"
             ],
             [
              0.4444444444444444,
              "#bd3786"
             ],
             [
              0.5555555555555556,
              "#d8576b"
             ],
             [
              0.6666666666666666,
              "#ed7953"
             ],
             [
              0.7777777777777778,
              "#fb9f3a"
             ],
             [
              0.8888888888888888,
              "#fdca26"
             ],
             [
              1,
              "#f0f921"
             ]
            ],
            "type": "contour"
           }
          ],
          "contourcarpet": [
           {
            "colorbar": {
             "outlinewidth": 0,
             "ticks": ""
            },
            "type": "contourcarpet"
           }
          ],
          "heatmap": [
           {
            "colorbar": {
             "outlinewidth": 0,
             "ticks": ""
            },
            "colorscale": [
             [
              0,
              "#0d0887"
             ],
             [
              0.1111111111111111,
              "#46039f"
             ],
             [
              0.2222222222222222,
              "#7201a8"
             ],
             [
              0.3333333333333333,
              "#9c179e"
             ],
             [
              0.4444444444444444,
              "#bd3786"
             ],
             [
              0.5555555555555556,
              "#d8576b"
             ],
             [
              0.6666666666666666,
              "#ed7953"
             ],
             [
              0.7777777777777778,
              "#fb9f3a"
             ],
             [
              0.8888888888888888,
              "#fdca26"
             ],
             [
              1,
              "#f0f921"
             ]
            ],
            "type": "heatmap"
           }
          ],
          "heatmapgl": [
           {
            "colorbar": {
             "outlinewidth": 0,
             "ticks": ""
            },
            "colorscale": [
             [
              0,
              "#0d0887"
             ],
             [
              0.1111111111111111,
              "#46039f"
             ],
             [
              0.2222222222222222,
              "#7201a8"
             ],
             [
              0.3333333333333333,
              "#9c179e"
             ],
             [
              0.4444444444444444,
              "#bd3786"
             ],
             [
              0.5555555555555556,
              "#d8576b"
             ],
             [
              0.6666666666666666,
              "#ed7953"
             ],
             [
              0.7777777777777778,
              "#fb9f3a"
             ],
             [
              0.8888888888888888,
              "#fdca26"
             ],
             [
              1,
              "#f0f921"
             ]
            ],
            "type": "heatmapgl"
           }
          ],
          "histogram": [
           {
            "marker": {
             "colorbar": {
              "outlinewidth": 0,
              "ticks": ""
             }
            },
            "type": "histogram"
           }
          ],
          "histogram2d": [
           {
            "colorbar": {
             "outlinewidth": 0,
             "ticks": ""
            },
            "colorscale": [
             [
              0,
              "#0d0887"
             ],
             [
              0.1111111111111111,
              "#46039f"
             ],
             [
              0.2222222222222222,
              "#7201a8"
             ],
             [
              0.3333333333333333,
              "#9c179e"
             ],
             [
              0.4444444444444444,
              "#bd3786"
             ],
             [
              0.5555555555555556,
              "#d8576b"
             ],
             [
              0.6666666666666666,
              "#ed7953"
             ],
             [
              0.7777777777777778,
              "#fb9f3a"
             ],
             [
              0.8888888888888888,
              "#fdca26"
             ],
             [
              1,
              "#f0f921"
             ]
            ],
            "type": "histogram2d"
           }
          ],
          "histogram2dcontour": [
           {
            "colorbar": {
             "outlinewidth": 0,
             "ticks": ""
            },
            "colorscale": [
             [
              0,
              "#0d0887"
             ],
             [
              0.1111111111111111,
              "#46039f"
             ],
             [
              0.2222222222222222,
              "#7201a8"
             ],
             [
              0.3333333333333333,
              "#9c179e"
             ],
             [
              0.4444444444444444,
              "#bd3786"
             ],
             [
              0.5555555555555556,
              "#d8576b"
             ],
             [
              0.6666666666666666,
              "#ed7953"
             ],
             [
              0.7777777777777778,
              "#fb9f3a"
             ],
             [
              0.8888888888888888,
              "#fdca26"
             ],
             [
              1,
              "#f0f921"
             ]
            ],
            "type": "histogram2dcontour"
           }
          ],
          "mesh3d": [
           {
            "colorbar": {
             "outlinewidth": 0,
             "ticks": ""
            },
            "type": "mesh3d"
           }
          ],
          "parcoords": [
           {
            "line": {
             "colorbar": {
              "outlinewidth": 0,
              "ticks": ""
             }
            },
            "type": "parcoords"
           }
          ],
          "pie": [
           {
            "automargin": true,
            "type": "pie"
           }
          ],
          "scatter": [
           {
            "marker": {
             "colorbar": {
              "outlinewidth": 0,
              "ticks": ""
             }
            },
            "type": "scatter"
           }
          ],
          "scatter3d": [
           {
            "line": {
             "colorbar": {
              "outlinewidth": 0,
              "ticks": ""
             }
            },
            "marker": {
             "colorbar": {
              "outlinewidth": 0,
              "ticks": ""
             }
            },
            "type": "scatter3d"
           }
          ],
          "scattercarpet": [
           {
            "marker": {
             "colorbar": {
              "outlinewidth": 0,
              "ticks": ""
             }
            },
            "type": "scattercarpet"
           }
          ],
          "scattergeo": [
           {
            "marker": {
             "colorbar": {
              "outlinewidth": 0,
              "ticks": ""
             }
            },
            "type": "scattergeo"
           }
          ],
          "scattergl": [
           {
            "marker": {
             "colorbar": {
              "outlinewidth": 0,
              "ticks": ""
             }
            },
            "type": "scattergl"
           }
          ],
          "scattermapbox": [
           {
            "marker": {
             "colorbar": {
              "outlinewidth": 0,
              "ticks": ""
             }
            },
            "type": "scattermapbox"
           }
          ],
          "scatterpolar": [
           {
            "marker": {
             "colorbar": {
              "outlinewidth": 0,
              "ticks": ""
             }
            },
            "type": "scatterpolar"
           }
          ],
          "scatterpolargl": [
           {
            "marker": {
             "colorbar": {
              "outlinewidth": 0,
              "ticks": ""
             }
            },
            "type": "scatterpolargl"
           }
          ],
          "scatterternary": [
           {
            "marker": {
             "colorbar": {
              "outlinewidth": 0,
              "ticks": ""
             }
            },
            "type": "scatterternary"
           }
          ],
          "surface": [
           {
            "colorbar": {
             "outlinewidth": 0,
             "ticks": ""
            },
            "colorscale": [
             [
              0,
              "#0d0887"
             ],
             [
              0.1111111111111111,
              "#46039f"
             ],
             [
              0.2222222222222222,
              "#7201a8"
             ],
             [
              0.3333333333333333,
              "#9c179e"
             ],
             [
              0.4444444444444444,
              "#bd3786"
             ],
             [
              0.5555555555555556,
              "#d8576b"
             ],
             [
              0.6666666666666666,
              "#ed7953"
             ],
             [
              0.7777777777777778,
              "#fb9f3a"
             ],
             [
              0.8888888888888888,
              "#fdca26"
             ],
             [
              1,
              "#f0f921"
             ]
            ],
            "type": "surface"
           }
          ],
          "table": [
           {
            "cells": {
             "fill": {
              "color": "#EBF0F8"
             },
             "line": {
              "color": "white"
             }
            },
            "header": {
             "fill": {
              "color": "#C8D4E3"
             },
             "line": {
              "color": "white"
             }
            },
            "type": "table"
           }
          ]
         },
         "layout": {
          "annotationdefaults": {
           "arrowcolor": "#2a3f5f",
           "arrowhead": 0,
           "arrowwidth": 1
          },
          "autotypenumbers": "strict",
          "coloraxis": {
           "colorbar": {
            "outlinewidth": 0,
            "ticks": ""
           }
          },
          "colorscale": {
           "diverging": [
            [
             0,
             "#8e0152"
            ],
            [
             0.1,
             "#c51b7d"
            ],
            [
             0.2,
             "#de77ae"
            ],
            [
             0.3,
             "#f1b6da"
            ],
            [
             0.4,
             "#fde0ef"
            ],
            [
             0.5,
             "#f7f7f7"
            ],
            [
             0.6,
             "#e6f5d0"
            ],
            [
             0.7,
             "#b8e186"
            ],
            [
             0.8,
             "#7fbc41"
            ],
            [
             0.9,
             "#4d9221"
            ],
            [
             1,
             "#276419"
            ]
           ],
           "sequential": [
            [
             0,
             "#0d0887"
            ],
            [
             0.1111111111111111,
             "#46039f"
            ],
            [
             0.2222222222222222,
             "#7201a8"
            ],
            [
             0.3333333333333333,
             "#9c179e"
            ],
            [
             0.4444444444444444,
             "#bd3786"
            ],
            [
             0.5555555555555556,
             "#d8576b"
            ],
            [
             0.6666666666666666,
             "#ed7953"
            ],
            [
             0.7777777777777778,
             "#fb9f3a"
            ],
            [
             0.8888888888888888,
             "#fdca26"
            ],
            [
             1,
             "#f0f921"
            ]
           ],
           "sequentialminus": [
            [
             0,
             "#0d0887"
            ],
            [
             0.1111111111111111,
             "#46039f"
            ],
            [
             0.2222222222222222,
             "#7201a8"
            ],
            [
             0.3333333333333333,
             "#9c179e"
            ],
            [
             0.4444444444444444,
             "#bd3786"
            ],
            [
             0.5555555555555556,
             "#d8576b"
            ],
            [
             0.6666666666666666,
             "#ed7953"
            ],
            [
             0.7777777777777778,
             "#fb9f3a"
            ],
            [
             0.8888888888888888,
             "#fdca26"
            ],
            [
             1,
             "#f0f921"
            ]
           ]
          },
          "colorway": [
           "#636efa",
           "#EF553B",
           "#00cc96",
           "#ab63fa",
           "#FFA15A",
           "#19d3f3",
           "#FF6692",
           "#B6E880",
           "#FF97FF",
           "#FECB52"
          ],
          "font": {
           "color": "#2a3f5f"
          },
          "geo": {
           "bgcolor": "white",
           "lakecolor": "white",
           "landcolor": "#E5ECF6",
           "showlakes": true,
           "showland": true,
           "subunitcolor": "white"
          },
          "hoverlabel": {
           "align": "left"
          },
          "hovermode": "closest",
          "mapbox": {
           "style": "light"
          },
          "paper_bgcolor": "white",
          "plot_bgcolor": "#E5ECF6",
          "polar": {
           "angularaxis": {
            "gridcolor": "white",
            "linecolor": "white",
            "ticks": ""
           },
           "bgcolor": "#E5ECF6",
           "radialaxis": {
            "gridcolor": "white",
            "linecolor": "white",
            "ticks": ""
           }
          },
          "scene": {
           "xaxis": {
            "backgroundcolor": "#E5ECF6",
            "gridcolor": "white",
            "gridwidth": 2,
            "linecolor": "white",
            "showbackground": true,
            "ticks": "",
            "zerolinecolor": "white"
           },
           "yaxis": {
            "backgroundcolor": "#E5ECF6",
            "gridcolor": "white",
            "gridwidth": 2,
            "linecolor": "white",
            "showbackground": true,
            "ticks": "",
            "zerolinecolor": "white"
           },
           "zaxis": {
            "backgroundcolor": "#E5ECF6",
            "gridcolor": "white",
            "gridwidth": 2,
            "linecolor": "white",
            "showbackground": true,
            "ticks": "",
            "zerolinecolor": "white"
           }
          },
          "shapedefaults": {
           "line": {
            "color": "#2a3f5f"
           }
          },
          "ternary": {
           "aaxis": {
            "gridcolor": "white",
            "linecolor": "white",
            "ticks": ""
           },
           "baxis": {
            "gridcolor": "white",
            "linecolor": "white",
            "ticks": ""
           },
           "bgcolor": "#E5ECF6",
           "caxis": {
            "gridcolor": "white",
            "linecolor": "white",
            "ticks": ""
           }
          },
          "title": {
           "x": 0.05
          },
          "xaxis": {
           "automargin": true,
           "gridcolor": "white",
           "linecolor": "white",
           "ticks": "",
           "title": {
            "standoff": 15
           },
           "zerolinecolor": "white",
           "zerolinewidth": 2
          },
          "yaxis": {
           "automargin": true,
           "gridcolor": "white",
           "linecolor": "white",
           "ticks": "",
           "title": {
            "standoff": 15
           },
           "zerolinecolor": "white",
           "zerolinewidth": 2
          }
         }
        },
        "title": {
         "font": {
          "color": "rgb(255, 255, 219)",
          "size": 32
         },
         "text": "USD vs YEN and Unemployment Benefits Claims"
        },
        "width": 900,
        "xaxis": {
         "anchor": "y",
         "domain": [
          0,
          0.94
         ],
         "showgrid": false,
         "tickfont": {
          "color": "rgb(169, 169, 169)"
         }
        },
        "yaxis": {
         "anchor": "x",
         "domain": [
          0,
          1
         ],
         "gridcolor": "rgba(137, 209, 133, 0.3)",
         "tickcolor": "rgba(137, 209, 133, 0.5)",
         "tickfont": {
          "color": "rgb(169, 169, 169)"
         },
         "ticks": "outside",
         "title": {
          "font": {
           "color": "rgb(169, 169, 169)"
          },
          "text": "<b>USD vs YEN</b>"
         }
        },
        "yaxis2": {
         "anchor": "x",
         "gridcolor": "rgba(214, 120, 101, 0.3)",
         "overlaying": "y",
         "showgrid": true,
         "side": "right",
         "tickcolor": "rgba(214, 120, 101, 0.5)",
         "tickfont": {
          "color": "rgb(169, 169, 169)"
         },
         "ticks": "outside",
         "title": {
          "font": {
           "color": "rgb(169, 169, 169)"
          },
          "text": "<b># Claims</b>"
         },
         "zeroline": false
        }
       }
      }
     },
     "metadata": {}
    }
   ],
   "source": [
    "fig.add_trace(\n",
    "    go.Scatter(\n",
    "        x=df_claims_slice['dt_end_offset'],\n",
    "        y=df_claims_slice['ic'],\n",
    "        name='Initial Claims',\n",
    "        mode='lines'\n",
    "    ),\n",
    "    secondary_y=True, #  This tells Plotly which axis we are addressing to add the trace to.\n",
    ")\n",
    "\n",
    "fig.update_layout(\n",
    "    title_text='USD vs YEN and Unemployment Benefits Claims',\n",
    "    legend_x=1.08,\n",
    ")\n",
    "\n",
    "fig.update_yaxes(\n",
    "    secondary_y=True, #  Same here to configure aesthetics.\n",
    "    title_text=\"<b># Claims</b>\",\n",
    "    title_font_color='rgb(169, 169, 169)',\n",
    "\n",
    "    showgrid=True,\n",
    "    zeroline=False,\n",
    "\n",
    "    gridcolor='rgba(214, 120, 101, 0.3)',\n",
    "    ticks='outside',\n",
    "    tickcolor='rgba(214, 120, 101, 0.5)',\n",
    "    tickfont_color='rgb(169, 169, 169)',\n",
    ")\n",
    "\n",
    "fig.show()"
   ]
  },
  {
   "source": [
    "## Conclusion\n",
    "\n",
    "Although we can create powerful charts and financial indicators using the Metatrader platform, you can complement your analysis using this python integration.\n",
    "\n",
    "It enables you to pull fresh data from the terminal, manipulate and join with any dataset to create richier analysis.\n",
    "\n",
    "This is also valuable for more advanced tasks like automating trade (sending buy/sell orders) or backtesting trade strategies."
   ],
   "cell_type": "markdown",
   "metadata": {}
  }
 ]
}